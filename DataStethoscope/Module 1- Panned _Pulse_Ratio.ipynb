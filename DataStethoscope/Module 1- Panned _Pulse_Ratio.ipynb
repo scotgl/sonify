{
 "cells": [
  {
   "cell_type": "code",
   "execution_count": 5,
   "metadata": {
    "hide_input": true
   },
   "outputs": [
    {
     "name": "stdout",
     "output_type": "stream",
     "text": [
      "Press Shift + Enter to activate cell\n",
      "\n",
      "Use the Slider to set a Value and Click the Sonify Me Button to play a sonification.\n",
      "\n",
      "Try to explore the full range of values and listen carefully:\n",
      "Notice the variation in pulse rate and panning (left/right) at different values.\n"
     ]
    },
    {
     "data": {
      "application/vnd.jupyter.widget-view+json": {
       "model_id": "5007e97d533a4d0fadf2fd57068df30c",
       "version_major": 2,
       "version_minor": 0
      },
      "text/plain": [
       "interactive(children=(IntSlider(value=50, description='percentage'), Output()), _dom_classes=('widget-interact…"
      ]
     },
     "metadata": {},
     "output_type": "display_data"
    },
    {
     "data": {
      "application/vnd.jupyter.widget-view+json": {
       "model_id": "d1f914acba8144019c0708f324adc4de",
       "version_major": 2,
       "version_minor": 0
      },
      "text/plain": [
       "Button(description='Sonify Me!', style=ButtonStyle())"
      ]
     },
     "metadata": {},
     "output_type": "display_data"
    },
    {
     "name": "stdout",
     "output_type": "stream",
     "text": [
      "You will be tested on your ability to judge the value of sonifications on this scale.\n",
      "When you are ready, press the Space Bar to proceed.\n"
     ]
    }
   ],
   "source": [
    "#%run ./dep/scripts/pan.py\n",
    "\n",
    "from ipywidgets import interact, interactive, fixed, interact_manual\n",
    "import ipywidgets as widgets\n",
    "from IPython.display import display\n",
    "import time\n",
    "from gtts import gTTS\n",
    "import os\n",
    "\n",
    "\n",
    "import numpy as np\n",
    "import matplotlib.pyplot as plt\n",
    "#%matplotlib inline\n",
    "\n",
    "import pandas as pd\n",
    "import ctcsound\n",
    "\n",
    "try:\n",
    "    pt\n",
    "except NameError:\n",
    "    var_exists = False\n",
    "else:\n",
    "    pt.stop()\n",
    "    pt.join()\n",
    "    time.sleep(2)\n",
    "\n",
    "\n",
    "pan = 0\n",
    "index = 10\n",
    "cs = ctcsound.Csound()\n",
    "\n",
    "csd = '''\n",
    "<CsoundSynthesizer>\n",
    "<CsOptions>\n",
    "-odac -d\n",
    "\n",
    "</CsOptions>\n",
    "<CsInstruments>\n",
    "\n",
    "sr = 44100\n",
    "ksmps = 32\n",
    "nchnls = 2\n",
    "0dbfs = 1\n",
    "\n",
    "instr 1\n",
    "\n",
    ";aMod1 poscil 200, 700, 1\n",
    "aMod1 poscil p4, p5, 1   ; p4 = amp1, p5 = f1, p6 = amp2, p7 = f2 \n",
    ";aMod2 poscil 1800, 290, 1\n",
    "aMod2 poscil p6, p7, 1\n",
    "kenv linen p9 , 0.3 , p3, p9\n",
    "aSig poscil kenv, 440+aMod1+aMod2, 1\n",
    "outs aSig*(1-p8), aSig*p8\n",
    "endin\n",
    "\n",
    "\n",
    "\n",
    "</CsInstruments>\n",
    "<CsScore>\n",
    "f 0 14400\n",
    "f 1 0 1024 10 1 \n",
    "\n",
    "</CsScore>\n",
    "\n",
    "</CsoundSynthesizer>\n",
    "'''\n",
    "\n",
    "\n",
    "    \n",
    "cs.compileCsdText(csd)\n",
    "cs.start()\n",
    "pt = ctcsound.CsoundPerformanceThread(cs.csound())\n",
    "pt.play()\n",
    "\n",
    "def f(percentage):\n",
    "    global index\n",
    "    index = percentage\n",
    "\n",
    "\n",
    "def on_button_clicked(b):\n",
    "    in_min  = 0\n",
    "    in_max = 100\n",
    "    out_min=690\n",
    "    out_max = 710\n",
    "\n",
    "\n",
    "    global index\n",
    "    #tts = gTTS(text=(str(index)+'percent'), lang='en')\n",
    "    #tts.save(\"num.mp3\")\n",
    "    #os.system(\"afplay num.mp3\")\n",
    "    if (index>50):\n",
    "        pan = 1\n",
    "    if (index<50):\n",
    "        pan = 0\n",
    "    if (index==50):\n",
    "        pan = 0.5\n",
    "    freq = (index - in_min) * (out_max - out_min) / (in_max - in_min) + out_min  \n",
    "    #print(freq)  \n",
    "\n",
    "    pt.scoreEvent(False, 'i', (1, 0, 4, 200, 700, 200, freq, pan, 0.5))\n",
    "    \n",
    "\n",
    "print(\"Press Shift + Enter to activate cell\")\n",
    "print(\"\\nUse the Slider to set a Value and Click the Sonify Me Button to play a sonification.\")\n",
    "print(\"\\nTry to explore the full range of values and listen carefully:\")\n",
    "print(\"Notice the variation in pulse rate and panning (left/right) at different values.\")\n",
    "\n",
    "interact (f, percentage=(0,100,1))\n",
    "\n",
    "button = widgets.Button(description=\"Sonify Me!\")\n",
    "display(button)\n",
    "button.on_click(on_button_clicked)\n",
    "\n",
    "print(\"You will be tested on your ability to judge the value of sonifications on this scale.\")\n",
    "print(\"When you are ready, press the Space Bar to proceed.\")"
   ]
  },
  {
   "cell_type": "code",
   "execution_count": null,
   "metadata": {
    "hide_input": false
   },
   "outputs": [],
   "source": []
  },
  {
   "cell_type": "code",
   "execution_count": null,
   "metadata": {},
   "outputs": [],
   "source": []
  }
 ],
 "metadata": {
  "hide_input": true,
  "kernelspec": {
   "display_name": "Python 3",
   "language": "python",
   "name": "python3"
  },
  "language_info": {
   "codemirror_mode": {
    "name": "ipython",
    "version": 3
   },
   "file_extension": ".py",
   "mimetype": "text/x-python",
   "name": "python",
   "nbconvert_exporter": "python",
   "pygments_lexer": "ipython3",
   "version": "3.6.4"
  }
 },
 "nbformat": 4,
 "nbformat_minor": 2
}
