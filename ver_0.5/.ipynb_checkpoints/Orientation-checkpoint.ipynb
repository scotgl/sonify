{
 "cells": [
  {
   "cell_type": "code",
   "execution_count": 24,
   "metadata": {
    "hide_input": true
   },
   "outputs": [
    {
     "name": "stdout",
     "output_type": "stream",
     "text": [
      "The UTDallas ArtSci Lab Sonification Training Orientation Module.\n",
      "\n",
      "\n",
      "Here are the instructions for those unfamiliar with these sonification training modules\n",
      "\n",
      " Basic Instructions for each cell :\n",
      "1. Press \"Shift + Enter\" at every new cell to initiate display/execute that cell\n",
      "2. Hit the Space Bar to go to next section (cell)\n",
      "\n",
      "\n",
      "These are the two main actions that you need to move forward, cell by cell in each unit\n",
      "This is how this system functions\n",
      "Do these now\n"
     ]
    }
   ],
   "source": [
    "from ipywidgets import interact, interactive, fixed, interact_manual\n",
    "import ipywidgets as widgets\n",
    "from gtts import gTTS\n",
    "import matplotlib\n",
    "import numpy \n",
    "from traitlets.config.manager import BaseJSONConfigManager\n",
    "path = \"/Users/scot/anaconda3/envs/py36/etc/jupyter/nbconfig\"\n",
    "cm = BaseJSONConfigManager(config_dir=path)\n",
    "cm.update(\"livereveal\", {\"autolaunch\": True,\n",
    "                         \"theme\": \"sky\",\n",
    "                        } \n",
    ")   \n",
    "\n",
    "#Supress default INFO logging\n",
    "\n",
    "\n",
    "# The UT Dallas Art Science Lab Training module \n",
    "print (\"The UTDallas ArtSci Lab Sonification Training Orientation Module.\")\n",
    "print(\"\\n\")\n",
    "print(\"Here are the instructions for those unfamiliar with these sonification training modules\" )\n",
    "print(\"\\n Basic Instructions for each cell :\")\n",
    "print('1. Press \"Shift + Enter\" at every new cell to initiate display/execute that cell')\n",
    "print(\"2. Hit the Space Bar to go to next section (cell)\")\n",
    "print(\"\\n\")\n",
    "print(\"These are the two main actions that you need to move forward, cell by cell in each unit\")\n",
    "print(\"This is how this system functions\")\n",
    "print(\"Do these now\")"
   ]
  },
  {
   "cell_type": "markdown",
   "metadata": {
    "hide_input": true
   },
   "source": [
    "# Please put on your best headphones on and Set your system Volume to 50%.\n",
    "\n",
    "In the next cell there will be a video to play to check your headphone and volume level.\n",
    "There is no particular reason for this cell to use \"Shift+Enter\", since it is just text, but do it NOW anyway to get used to using the \"Shift+Enter\" action for each cell. \n",
    "Now (as before) use Space Bar or arrows at bottom right to navigate to next section.\n"
   ]
  },
  {
   "cell_type": "code",
   "execution_count": 11,
   "metadata": {
    "hide_input": true
   },
   "outputs": [
    {
     "data": {
      "text/html": [
       "# Okay, Hit \"Shift+Enter\" to load in the video with this command, not a normal webpage ;-)\n",
       "<video width=\"640\" height=\"480\" controls>\n",
       "  <source src=\"Listening_TestV2.mp4\" type=\"video/mp4\">\n",
       "</video>\n",
       "</br>\n",
       "<b>   After you watch the video, then press Space Bar to proceed</b>"
      ],
      "text/plain": [
       "<IPython.core.display.HTML object>"
      ]
     },
     "metadata": {},
     "output_type": "display_data"
    }
   ],
   "source": [
    "%%HTML\n",
    "# Okay, Hit \"Shift+Enter\" to load in the video with this command, not a normal webpage ;-)\n",
    "<video width=\"640\" height=\"480\" controls>\n",
    "  <source src=\"Listening_TestV2.mp4\" type=\"video/mp4\">\n",
    "</video>\n",
    "</br>\n",
    "<b>   After you watch the video, then press Space Bar to proceed to the next cell</b>"
   ]
  },
  {
   "cell_type": "code",
   "execution_count": null,
   "metadata": {
    "hide_input": true
   },
   "outputs": [],
   "source": []
  }
 ],
 "metadata": {
  "kernelspec": {
   "display_name": "Python 3",
   "language": "python",
   "name": "python3"
  },
  "language_info": {
   "codemirror_mode": {
    "name": "ipython",
    "version": 3
   },
   "file_extension": ".py",
   "mimetype": "text/x-python",
   "name": "python",
   "nbconvert_exporter": "python",
   "pygments_lexer": "ipython3",
   "version": "3.6.5"
  }
 },
 "nbformat": 4,
 "nbformat_minor": 2
}
