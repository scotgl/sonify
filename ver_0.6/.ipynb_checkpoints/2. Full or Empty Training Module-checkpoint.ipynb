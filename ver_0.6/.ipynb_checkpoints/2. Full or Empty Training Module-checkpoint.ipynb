{
 "cells": [
  {
   "cell_type": "code",
   "execution_count": 6,
   "metadata": {
    "hideCode": false,
    "hidePrompt": false,
    "hide_input": true,
    "scrolled": false,
    "slideshow": {
     "slide_type": "slide"
    }
   },
   "outputs": [
    {
     "name": "stdout",
     "output_type": "stream",
     "text": [
      "Sonification Training Module v0.5.2\n",
      "\n",
      "Developed by the ArtSciLab at UT Dallas\n",
      "\n",
      "\n",
      "Full or Empty Training Module\n",
      "\n",
      "\n",
      "\n",
      "Basic Instructions for each cell :\n",
      "1. Press Shift + Enter to initiate display\n",
      "2. Press Space Bar to proceed to the next cell\n",
      "\n",
      "\n",
      "Volume controls are located in the top row of the keyboard if you need to adjust the volume at any time\n"
     ]
    }
   ],
   "source": [
    "from ipywidgets import interact, interactive, fixed, interact_manual\n",
    "import ipywidgets as widgets\n",
    "from gtts import gTTS\n",
    "import matplotlib\n",
    "import numpy \n",
    "from traitlets.config.manager import BaseJSONConfigManager\n",
    "path = \"/Users/scot/anaconda3/envs/py36/etc/jupyter/nbconfig\"\n",
    "cm = BaseJSONConfigManager(config_dir=path)\n",
    "cm.update(\"livereveal\", {\"autolaunch\": True,\n",
    "                         \"theme\": \"sky\",\n",
    "                        } \n",
    ")\n",
    "\n",
    "#Supress default INFO logging\n",
    "# The UT Dallas Art Science Lab Training module \n",
    "print (\"Sonification Training Module v0.5.2\")\n",
    "print(\"\\nDeveloped by the ArtSciLab at UT Dallas\")\n",
    "print(\"\\n\")\n",
    "print(\"Full or Empty Training Module\" )\n",
    "print(\"\\n\")\n",
    "print(\"\\nBasic Instructions for each cell :\")\n",
    "print('1. Press Shift + Enter to initiate display')\n",
    "print(\"2. Press Space Bar to proceed to the next cell\")\n",
    "print(\"\\n\")\n",
    "print(\"Volume controls are located in the top row of the keyboard if you need to adjust the volume at any time\")"
   ]
  },
  {
   "cell_type": "code",
   "execution_count": 7,
   "metadata": {
    "code_folding": [
     56
    ],
    "hide_input": true,
    "scrolled": true,
    "slideshow": {
     "slide_type": "slide"
    }
   },
   "outputs": [
    {
     "name": "stdout",
     "output_type": "stream",
     "text": [
      "Press Shift+Enter once to initiate instructions\n"
     ]
    },
    {
     "data": {
      "image/jpeg": "[encoded data removed]",
      "text/plain": [
       "<IPython.core.display.Image object>"
      ]
     },
     "metadata": {},
     "output_type": "display_data"
    },
    {
     "name": "stdout",
     "output_type": "stream",
     "text": [
      "Press Space Bar to proceed\n"
     ]
    }
   ],
   "source": [
    "import random\n",
    "from gtts import gTTS\n",
    "import time\n",
    "from IPython.display import Image, display, clear_output\n",
    "from ipywidgets import widgets\n",
    "import os\n",
    "import platform\n",
    "speechflag = 0\n",
    "if (platform.system()=='Windows'):\n",
    "    speechflag = 2\n",
    "if (platform.system()!='Windows'):\n",
    "    speechflag = 1\n",
    "\n",
    "print(\"Press Shift+Enter once to initiate instructions\")\n",
    "display(Image('dep/images/glasses.jpg'))\n",
    "tts = gTTS(text=('In this sonification,we try to represent the emptiness or fullness of something. For instance a drop of water falling into an empty glass sounds like'), lang='en')\n",
    "tts.save(\"dep/audio/num.mp3\")\n",
    "if (speechflag==1):\n",
    "                os.system(\"dep/audio/afplay num.mp3\")\n",
    "                os.system(\"dep/audio/afplay empty.mp3\")\n",
    "if (speechflag==2):\n",
    "                os.system(\"cmdmp3 dep/audio/num.mp3\")\n",
    "                os.system(\"cmdmp3 dep/audio/empty.mp3\")\n",
    "\n",
    "\n",
    "tts = gTTS(text=('Or the same drop of water falling into a full glass might sound like'), lang='en')\n",
    "tts.save(\"dep/audio/num.mp3\")\n",
    "if (speechflag==1):\n",
    "                os.system(\"afplay dep/audio/num.mp3\")\n",
    "                os.system(\"afplay dep/audio/full.mp3\")\n",
    "if (speechflag==2):\n",
    "                os.system(\"cmdmp3 dep/audio/num.mp3\")\n",
    "                os.system(\"cmdmp3 dep/audio/full.mp3\")\n",
    "\n",
    "tts = gTTS(text=('Notice, as how the saying goes, it is difficult to say if a glass is half empty '), lang='en')\n",
    "tts.save(\"dep/audio/num.mp3\")\n",
    "if (speechflag==1):\n",
    "                os.system(\"afplay dep/audio/num.mp3\")\n",
    "                os.system(\"afplay half_empty.mp3\")\n",
    "if (speechflag==2):\n",
    "                os.system(\"cmdmp3 dep/audio/num.mp3\")\n",
    "                os.system(\"cmdmp3 dep/audio/half_empty.mp3\")\n",
    "\n",
    "tts = gTTS(text=('or half full '), lang='en')\n",
    "tts.save(\"num.mp3\")\n",
    "if (speechflag==1):\n",
    "                os.system(\"afplay dep/audio/num.mp3\")\n",
    "                os.system(\"afplay dep/audio/half_full.mp3\")\n",
    "if (speechflag==2):\n",
    "                os.system(\"cmdmp3 dep/audio/num.mp3\")\n",
    "                os.system(\"cmdmp3 dep/audio/half_full.mp3\")\n",
    "\n",
    "tts = gTTS(text=('Ok. Press space bar to go to the next section where you can explore this sonification before taking the test'), lang='en')\n",
    "tts.save(\"num.mp3\")\n",
    "if (speechflag==1):\n",
    "                os.system(\"afplay dep/audio/num.mp3\")\n",
    "if (speechflag==2):\n",
    "                os.system(\"cmdmp3 dep/audio/num.mp3\")            \n",
    "\n",
    "print(\"Press Space Bar to proceed\")\n",
    "\n",
    "\n",
    "  \n"
   ]
  },
  {
   "cell_type": "markdown",
   "metadata": {
    "slideshow": {
     "slide_type": "slide"
    }
   },
   "source": [
    "## You have completed the Training Module\n",
    "\n",
    "Now that you have the general idea of this sound representation,\n",
    "it is time to move on to the next phase where you can explore this sonification. \n",
    "\n",
    "Please close this tab and open the next module from the list of notebooks:  \n",
    "\n",
    "\n",
    "<b>3. Full or Empty Exploration Module</b>"
   ]
  }
 ],
 "metadata": {
  "celltoolbar": "Slideshow",
  "hide_code_all_hidden": false,
  "hide_input": true,
  "kernelspec": {
   "display_name": "Python 3",
   "language": "python",
   "name": "python3"
  },
  "language_info": {
   "codemirror_mode": {
    "name": "ipython",
    "version": 3
   },
   "file_extension": ".py",
   "mimetype": "text/x-python",
   "name": "python",
   "nbconvert_exporter": "python",
   "pygments_lexer": "ipython3",
   "version": "3.6.5"
  }
 },
 "nbformat": 4,
 "nbformat_minor": 2
}
