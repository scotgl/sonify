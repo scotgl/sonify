{
 "cells": [
  {
   "cell_type": "code",
   "execution_count": 2,
   "metadata": {
    "hideCode": false,
    "hidePrompt": false,
    "hide_input": true,
    "scrolled": true,
    "slideshow": {
     "slide_type": "slide"
    }
   },
   "outputs": [
    {
     "name": "stdout",
     "output_type": "stream",
     "text": [
      "Sonification Training Module v0.5.2\n",
      "\n",
      "Developed by the ArtSciLab at UT Dallas\n",
      "\n",
      "\n",
      "Full or Empty Exploration Module\n",
      "\n",
      "\n",
      "\n",
      "Basic Instructions for each cell :\n",
      "1. Press Shift + Enter to initiate display\n",
      "2. Press Space Bar to proceed to the next cell\n",
      "\n",
      "\n",
      "Volume controls are located in the top row of the keyboard if you need to adjust the volume at any time\n"
     ]
    }
   ],
   "source": [
    "from ipywidgets import interact, interactive, fixed, interact_manual\n",
    "import ipywidgets as widgets\n",
    "from gtts import gTTS\n",
    "import matplotlib\n",
    "import numpy \n",
    "from traitlets.config.manager import BaseJSONConfigManager\n",
    "path = \"/Users/scot/anaconda3/envs/py36/etc/jupyter/nbconfig\"\n",
    "cm = BaseJSONConfigManager(config_dir=path)\n",
    "cm.update(\"livereveal\", {\"autolaunch\": True,\n",
    "                         \"theme\": \"sky\",\n",
    "                        } \n",
    ")\n",
    "\n",
    "\n",
    "\n",
    "#Supress default INFO logging\n",
    "# The UT Dallas Art Science Lab Training module \n",
    "print (\"Sonification Training Module v0.5.2\")\n",
    "print(\"\\nDeveloped by the ArtSciLab at UT Dallas\")\n",
    "print(\"\\n\")\n",
    "print(\"Full or Empty Exploration Module\" )\n",
    "print(\"\\n\")\n",
    "print(\"\\nBasic Instructions for each cell :\")\n",
    "print('1. Press Shift + Enter to initiate display')\n",
    "print(\"2. Press Space Bar to proceed to the next cell\")\n",
    "print(\"\\n\")\n",
    "print(\"Volume controls are located in the top row of the keyboard if you need to adjust the volume at any time\")"
   ]
  },
  {
   "cell_type": "code",
   "execution_count": 1,
   "metadata": {
    "hide_input": true,
    "slideshow": {
     "slide_type": "slide"
    }
   },
   "outputs": [
    {
     "name": "stdout",
     "output_type": "stream",
     "text": [
      "Press Shift + Enter to initiate display\n",
      "\n",
      "Use the slider to set a value and click Sonify Me to play a sonification.\n",
      "\n",
      "Try to explore the full range of values and listen carefully:\n",
      "Notice the variation in timbre and acoustic resonance at different values.\n"
     ]
    },
    {
     "data": {
      "application/vnd.jupyter.widget-view+json": {
       "model_id": "6dbe0c09d91d42d18e0af2d8093c72dc",
       "version_major": 2,
       "version_minor": 0
      },
      "text/plain": [
       "interactive(children=(IntSlider(value=50, description='percentage'), Output()), _dom_classes=('widget-interact…"
      ]
     },
     "metadata": {},
     "output_type": "display_data"
    },
    {
     "data": {
      "application/vnd.jupyter.widget-view+json": {
       "model_id": "d2e43dc7fa9f4faca596221d1b0ff67d",
       "version_major": 2,
       "version_minor": 0
      },
      "text/plain": [
       "Button(description='Sonify Me!', style=ButtonStyle())"
      ]
     },
     "metadata": {},
     "output_type": "display_data"
    },
    {
     "name": "stdout",
     "output_type": "stream",
     "text": [
      "You will be tested on your ability to judge the value of sonifications on this scale.\n",
      "When you are ready, press the Space Bar to proceed.\n"
     ]
    }
   ],
   "source": [
    "%run ./dep/scripts/drops.py\n",
    "from ipywidgets import widgets\n",
    "print(\"Press Shift + Enter to initiate display\")\n",
    "print(\"\\nUse the slider to set a value and click Sonify Me to play a sonification.\")\n",
    "print(\"\\nTry to explore the full range of values and listen carefully:\")\n",
    "print(\"Notice the variation in timbre and acoustic resonance at different values.\")\n",
    "\n",
    "interact (f, percentage=(0,100,1))\n",
    "\n",
    "button = widgets.Button(description=\"Sonify Me!\")\n",
    "display(button)\n",
    "button.on_click(on_button_clicked)\n",
    "\n",
    "print(\"You will be tested on your ability to judge the value of sonifications on this scale.\")\n",
    "print(\"When you are ready, press the Space Bar to proceed.\")"
   ]
  },
  {
   "cell_type": "markdown",
   "metadata": {
    "hide_input": false,
    "slideshow": {
     "slide_type": "slide"
    }
   },
   "source": [
    "## You have completed the Exploration Module\n",
    "\n",
    "Now that you have explored this sound representation,\n",
    "it is time to move on to the next phase of testing your ability to judge sonifications on this scale. \n",
    "\n",
    "\n",
    "Please close this tab and open the next module from the list of notebooks:  \n",
    "\n",
    "\n",
    "<b>4. Full or Empty Testing Module</b>"
   ]
  }
 ],
 "metadata": {
  "celltoolbar": "Slideshow",
  "hide_code_all_hidden": false,
  "hide_input": true,
  "kernelspec": {
   "display_name": "Python 3",
   "language": "python",
   "name": "python3"
  },
  "language_info": {
   "codemirror_mode": {
    "name": "ipython",
    "version": 3
   },
   "file_extension": ".py",
   "mimetype": "text/x-python",
   "name": "python",
   "nbconvert_exporter": "python",
   "pygments_lexer": "ipython3",
   "version": "3.6.5"
  }
 },
 "nbformat": 4,
 "nbformat_minor": 2
}
