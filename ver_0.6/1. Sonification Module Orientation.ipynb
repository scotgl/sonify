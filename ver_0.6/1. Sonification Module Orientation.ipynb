{
 "cells": [
  {
   "cell_type": "code",
   "execution_count": 1,
   "metadata": {
    "hideCode": false,
    "hidePrompt": false,
    "hide_input": false,
    "scrolled": true,
    "slideshow": {
     "slide_type": "slide"
    }
   },
   "outputs": [
    {
     "name": "stdout",
     "output_type": "stream",
     "text": [
      "Sonification Training Module v0.5.2\n",
      "\n",
      "Developed by the ArtSciLab at UT Dallas\n",
      "\n",
      "\n",
      "Sonification Module Orientation\n",
      "\n",
      "\n",
      "\n",
      "Basic Instructions for each cell :\n",
      "1. Press Shift + Enter to initiate display\n",
      "2. Press Space Bar to proceed to the next cell\n"
     ]
    }
   ],
   "source": [
    "from ipywidgets import interact, interactive, fixed, interact_manual\n",
    "import ipywidgets as widgets\n",
    "from gtts import gTTS\n",
    "import matplotlib\n",
    "import numpy \n",
    "from traitlets.config.manager import BaseJSONConfigManager\n",
    "path = \"/Users/scot/anaconda3/envs/py36/etc/jupyter/nbconfig\"\n",
    "cm = BaseJSONConfigManager(config_dir=path)\n",
    "cm.update(\"livereveal\", {\"autolaunch\": True,\n",
    "                         \"theme\": \"sky\",\n",
    "                        } \n",
    ")   \n",
    "\n",
    "#Supress default INFO logging\n",
    "\n",
    "\n",
    "# The UT Dallas Art Science Lab Training module \n",
    "print (\"Sonification Training Module v0.5.2\")\n",
    "print(\"\\nDeveloped by the ArtSciLab at UT Dallas\")\n",
    "print(\"\\n\")\n",
    "print(\"Sonification Module Orientation\" )\n",
    "print(\"\\n\")\n",
    "print(\"\\nBasic Instructions for each cell :\")\n",
    "print('1. Press Shift + Enter to initiate display')\n",
    "print(\"2. Press Space Bar to proceed to the next cell\")\n"
   ]
  },
  {
   "cell_type": "code",
   "execution_count": 2,
   "metadata": {
    "scrolled": false,
    "slideshow": {
     "slide_type": "slide"
    }
   },
   "outputs": [
    {
     "name": "stdout",
     "output_type": "stream",
     "text": [
      "Please put on your best headphones and set the system volume to a comfortable level\n",
      "\n",
      "\n",
      "Volume controls are located in the top row of the keyboard if you need to adjust the volume at any time\n"
     ]
    }
   ],
   "source": [
    "print(\"Please put on your best headphones and set the system volume to a comfortable level\")\n",
    "print(\"\\n\")\n",
    "print(\"Volume controls are located in the top row of the keyboard if you need to adjust the volume at any time\")"
   ]
  },
  {
   "cell_type": "code",
   "execution_count": 3,
   "metadata": {
    "hideCode": false,
    "hidePrompt": false,
    "hide_input": true,
    "scrolled": true,
    "slideshow": {
     "slide_type": "slide"
    }
   },
   "outputs": [
    {
     "data": {
      "text/html": [
       "# Press Shift+Enter and click Play to watch the video\n",
       "\n",
       "<video width=\"640\" height=\"480\" controls>\n",
       "  <source src=\"dep/videos/Listening_TestV2.mp4\" type=\"video/mp4\">\n",
       "</video>\n",
       "</br>\n",
       "<b>   When you have completed the video, press Space Bar to proceed</b>\n",
       "\n"
      ],
      "text/plain": [
       "<IPython.core.display.HTML object>"
      ]
     },
     "metadata": {},
     "output_type": "display_data"
    }
   ],
   "source": [
    "%%HTML\n",
    "# Press Shift+Enter and click Play to watch the video\n",
    "\n",
    "<video width=\"640\" height=\"480\" controls>\n",
    "  <source src=\"dep/videos/Listening_TestV2.mp4\" type=\"video/mp4\">\n",
    "</video>\n",
    "</br>\n",
    "<b>   When you have completed the video, press Space Bar to proceed</b>\n",
    "\n",
    "\n"
   ]
  },
  {
   "cell_type": "code",
   "execution_count": 4,
   "metadata": {
    "hide_input": true,
    "slideshow": {
     "slide_type": "slide"
    }
   },
   "outputs": [
    {
     "name": "stdout",
     "output_type": "stream",
     "text": [
      "Could you hear sound on both headphones?\n"
     ]
    },
    {
     "data": {
      "application/vnd.jupyter.widget-view+json": {
       "model_id": "1ff780bde29448c1b2ea43a1cc8863d4",
       "version_major": 2,
       "version_minor": 0
      },
      "text/plain": [
       "HBox(children=(Button(description='Yes', style=ButtonStyle()), Button(description='No', style=ButtonStyle())))"
      ]
     },
     "metadata": {},
     "output_type": "display_data"
    }
   ],
   "source": [
    "from ipywidgets import interact, interactive, fixed, interact_manual\n",
    "import ipywidgets as widgets\n",
    "import gtts as gTTS\n",
    "# Make sure and hit \"Shift + Enter\" if you have not yet\n",
    "print(\"Could you hear sound on both headphones?\")\n",
    "yesno=['Yes','No']\n",
    "button1 = widgets.Button(description = yesno[0])\n",
    "button2 = widgets.Button(description = yesno[1])\n",
    "#tts = gTTS(text=name+' Do you have a hearing disability? Click Yes or No', lang='en')\n",
    "#tts.save(\"answer.mp3\") \n",
    "#os.system(\"afplay answer.mp3\")\n",
    "container = widgets.HBox(children=[button1,button2])\n",
    "display(container)\n",
    "\n",
    "    \n",
    "def on_button1_clicked(b):\n",
    "    choice = b.description\n",
    "    b.color = 'white'\n",
    "    #tts = gTTS(text='Great. Please use the scroll on the lower right corner to proceed on to the next section', lang='en')\n",
    "    #tts.save(\"answer.mp3\") \n",
    "    #os.system(\"afplay answer.mp3\")\n",
    "    #clear_output()\n",
    "    print(\"Great. Press Space Bar to proceed\")\n",
    "        \n",
    "def on_button2_clicked(b):\n",
    "    # [insert code to record choice] \n",
    "    #tts = gTTS(text='Please check your system sound settings and headphones & try again', lang='en')\n",
    "    #tts.save(\"answer.mp3\") \n",
    "    #os.system(\"afplay answer.mp3\")\n",
    "    container.close()\n",
    "    #clear_output()\n",
    "    print(\"Please check your system sound settings & headphones then start afresh\")\n",
    "\n",
    "button1.on_click(on_button1_clicked)\n",
    "button2.on_click(on_button2_clicked)"
   ]
  },
  {
   "cell_type": "markdown",
   "metadata": {
    "hide_input": true,
    "slideshow": {
     "slide_type": "slide"
    }
   },
   "source": [
    "## Please take a moment to evaluate your hearing with this online test: \n",
    "\n",
    "\n",
    "[ONLINE HEARING TEST link - click here](https://hearingtest.online) \n",
    "\n",
    "\n",
    "    \n",
    "    Press Space Bar to proceed to the final slide of this orientation"
   ]
  },
  {
   "cell_type": "markdown",
   "metadata": {
    "slideshow": {
     "slide_type": "slide"
    }
   },
   "source": [
    "\n",
    "## You have completed the Sonification Module Orientation\n",
    "Now you have an idea of what is involved in using these notebooks.\n",
    "In the upcoming modules you will be interacting with actual code that converts data into sound!\n",
    "They will proceed in a format of educating the listener, then giving a chance to explore and understand,\n",
    "followed by a set of simple game-like interactions. Enjoy (:\n",
    "\n",
    "Please close this tab and open the next module from the list of notebooks:  \n",
    "\n",
    "\n",
    "<b>2. Full or Empty Training Module</b>"
   ]
  },
  {
   "cell_type": "code",
   "execution_count": null,
   "metadata": {},
   "outputs": [],
   "source": []
  }
 ],
 "metadata": {
  "celltoolbar": "Slideshow",
  "hide_code_all_hidden": false,
  "hide_input": true,
  "kernelspec": {
   "display_name": "Python 3",
   "language": "python",
   "name": "python3"
  },
  "language_info": {
   "codemirror_mode": {
    "name": "ipython",
    "version": 3
   },
   "file_extension": ".py",
   "mimetype": "text/x-python",
   "name": "python",
   "nbconvert_exporter": "python",
   "pygments_lexer": "ipython3",
   "version": "3.6.5"
  }
 },
 "nbformat": 4,
 "nbformat_minor": 2
}
