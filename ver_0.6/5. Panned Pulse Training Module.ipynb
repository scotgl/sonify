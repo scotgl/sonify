{
 "cells": [
  {
   "cell_type": "code",
   "execution_count": 1,
   "metadata": {
    "hideCode": false,
    "hidePrompt": false,
    "hide_input": true,
    "scrolled": false,
    "slideshow": {
     "slide_type": "slide"
    }
   },
   "outputs": [
    {
     "name": "stdout",
     "output_type": "stream",
     "text": [
      "Sonification Training Module v0.5.2\n",
      "\n",
      "Developed by the ArtSciLab at UT Dallas\n",
      "\n",
      "\n",
      "Panned Pulse Training Module\n",
      "\n",
      "\n",
      "\n",
      "Basic Instructions for each cell :\n",
      "1. Press Shift + Enter to initiate display\n",
      "2. Press Space Bar to proceed to the next cell\n",
      "\n",
      "\n",
      "Volume controls are located in the top row of the keyboard if you need to adjust the volume at any time\n"
     ]
    }
   ],
   "source": [
    "from ipywidgets import interact, interactive, fixed, interact_manual\n",
    "import ipywidgets as widgets\n",
    "from gtts import gTTS\n",
    "import matplotlib\n",
    "import numpy \n",
    "from traitlets.config.manager import BaseJSONConfigManager\n",
    "path = \"/Users/Kristen/anaconda3/envs/py36/etc/jupyter/nbconfig\"\n",
    "cm = BaseJSONConfigManager(config_dir=path)\n",
    "cm.update(\"livereveal\", {\"autolaunch\": True,\n",
    "                         \"theme\": \"sky\",\n",
    "                        } \n",
    ")\n",
    "\n",
    "#Supress default INFO logging\n",
    "# The UT Dallas Art Science Lab Training module \n",
    "print (\"Sonification Training Module v0.5.2\")\n",
    "print(\"\\nDeveloped by the ArtSciLab at UT Dallas\")\n",
    "print(\"\\n\")\n",
    "print(\"Panned Pulse Training Module\" )\n",
    "print(\"\\n\")\n",
    "print(\"\\nBasic Instructions for each cell :\")\n",
    "print('1. Press Shift + Enter to initiate display')\n",
    "print(\"2. Press Space Bar to proceed to the next cell\")\n",
    "print(\"\\n\")\n",
    "print(\"Volume controls are located in the top row of the keyboard if you need to adjust the volume at any time\")"
   ]
  },
  {
   "cell_type": "code",
   "execution_count": 3,
   "metadata": {
    "hide_input": true,
    "scrolled": true,
    "slideshow": {
     "slide_type": "slide"
    }
   },
   "outputs": [
    {
     "data": {
      "text/html": [
       "# Press Shift+Enter and click Play to watch the video\n",
       "\n",
       "\n",
       "\n",
       "<video width=\"640\" height=\"480\" controls>\n",
       "  <source src=\"dep/videos/percentages.mp4\" type=\"video/mp4\">\n",
       "</video>\n",
       "</br>\n",
       "<b>   When you have completed the video, press Space Bar to proceed</b>"
      ],
      "text/plain": [
       "<IPython.core.display.HTML object>"
      ]
     },
     "metadata": {},
     "output_type": "display_data"
    }
   ],
   "source": [
    "%%HTML\n",
    "# Press Shift+Enter and click Play to watch the video\n",
    "\n",
    "\n",
    "\n",
    "<video width=\"640\" height=\"480\" controls>\n",
    "  <source src=\"dep/videos/percentages.mp4\" type=\"video/mp4\">\n",
    "</video>\n",
    "</br>\n",
    "<b>   When you have completed the video, press Space Bar to proceed</b>"
   ]
  },
  {
   "cell_type": "markdown",
   "metadata": {
    "hide_input": false,
    "slideshow": {
     "slide_type": "slide"
    }
   },
   "source": [
    "## You have completed the Training Module\n",
    "\n",
    "Now that you have the general idea of this sound representation, \n",
    "it is time to move on to the next phase where you can explore this sonification. \n",
    "\n",
    "Please close this tab and open the next module from the list of notebooks:  \n",
    "\n",
    "\n",
    "<b>6. Panned Pulse Exploration Module</b>\n"
   ]
  }
 ],
 "metadata": {
  "celltoolbar": "Slideshow",
  "hide_code_all_hidden": false,
  "hide_input": true,
  "kernelspec": {
   "display_name": "Python 3",
   "language": "python",
   "name": "python3"
  },
  "language_info": {
   "codemirror_mode": {
    "name": "ipython",
    "version": 3
   },
   "file_extension": ".py",
   "mimetype": "text/x-python",
   "name": "python",
   "nbconvert_exporter": "python",
   "pygments_lexer": "ipython3",
   "version": "3.6.5"
  }
 },
 "nbformat": 4,
 "nbformat_minor": 2
}
