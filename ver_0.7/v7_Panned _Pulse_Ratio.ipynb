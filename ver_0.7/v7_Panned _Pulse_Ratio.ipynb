{
 "cells": [
  {
   "cell_type": "code",
   "execution_count": 1,
   "metadata": {
    "hide_input": false
   },
   "outputs": [
    {
     "name": "stdout",
     "output_type": "stream",
     "text": [
      "Press Shift + Enter to activate cell\n",
      "\n",
      "Use the Slider to set a Value and Click the Sonify Me Button to play a sonification.\n",
      "\n",
      "Try to explore the full range of values and listen carefully:\n",
      "Notice the variation in pulse rate and panning (left/right) at different values.\n"
     ]
    },
    {
     "data": {
      "application/vnd.jupyter.widget-view+json": {
       "model_id": "0f5f3b41f926427d99d6ad5fe3d87440",
       "version_major": 2,
       "version_minor": 0
      },
      "text/plain": [
       "interactive(children=(IntSlider(value=50, description='percentage'), Output()), _dom_classes=('widget-interact…"
      ]
     },
     "metadata": {},
     "output_type": "display_data"
    },
    {
     "data": {
      "application/vnd.jupyter.widget-view+json": {
       "model_id": "9e07a217f7984b3a8e13d086ef66b22e",
       "version_major": 2,
       "version_minor": 0
      },
      "text/plain": [
       "Button(description='Sonify Me!', style=ButtonStyle())"
      ]
     },
     "metadata": {},
     "output_type": "display_data"
    },
    {
     "name": "stdout",
     "output_type": "stream",
     "text": [
      "You will be tested on your ability to judge the value of sonifications on this scale.\n",
      "When you are ready, press the Space Bar to proceed.\n"
     ]
    }
   ],
   "source": [
    "%run ./dep/scripts/pan.py\n",
    "\n",
    "print(\"Press Shift + Enter to activate cell\")\n",
    "print(\"\\nUse the Slider to set a Value and Click the Sonify Me Button to play a sonification.\")\n",
    "print(\"\\nTry to explore the full range of values and listen carefully:\")\n",
    "print(\"Notice the variation in pulse rate and panning (left/right) at different values.\")\n",
    "\n",
    "interact (f, percentage=(0,100,1))\n",
    "\n",
    "button = widgets.Button(description=\"Sonify Me!\")\n",
    "display(button)\n",
    "button.on_click(on_button_clicked)\n",
    "\n",
    "print(\"You will be tested on your ability to judge the value of sonifications on this scale.\")\n",
    "print(\"When you are ready, press the Space Bar to proceed.\")"
   ]
  },
  {
   "cell_type": "code",
   "execution_count": null,
   "metadata": {
    "hide_input": false
   },
   "outputs": [],
   "source": []
  }
 ],
 "metadata": {
  "hide_input": false,
  "kernelspec": {
   "display_name": "Python 3",
   "language": "python",
   "name": "python3"
  },
  "language_info": {
   "codemirror_mode": {
    "name": "ipython",
    "version": 3
   },
   "file_extension": ".py",
   "mimetype": "text/x-python",
   "name": "python",
   "nbconvert_exporter": "python",
   "pygments_lexer": "ipython3",
   "version": "3.6.4"
  }
 },
 "nbformat": 4,
 "nbformat_minor": 2
}
