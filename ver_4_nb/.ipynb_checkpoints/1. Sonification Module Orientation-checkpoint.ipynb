{
 "cells": [
  {
   "cell_type": "code",
   "execution_count": 2,
   "metadata": {
    "hideCode": false,
    "hidePrompt": false,
    "hide_input": true,
    "scrolled": false,
    "slideshow": {
     "slide_type": "slide"
    }
   },
   "outputs": [
    {
     "name": "stdout",
     "output_type": "stream",
     "text": [
      "The UTDallas ArtSci Lab Sonification Training Orientation Module.\n",
      "\n",
      "\n",
      "Here are the instructions for those unfamiliar with these sonification training modules\n",
      "\n",
      " Basic Instructions for each cell :\n",
      "1. Press \"Shift + Enter\" at every new cell to initiate display/execute that cell\n",
      "2. Hit the Space Bar to go to next section (cell)\n",
      "\n",
      "\n",
      "These are the two main actions that you need to move forward, cell by cell in each unit\n",
      "This is how this system functions\n",
      "Do these now\n"
     ]
    }
   ],
   "source": [
    "from ipywidgets import interact, interactive, fixed, interact_manual\n",
    "import ipywidgets as widgets\n",
    "from gtts import gTTS\n",
    "import matplotlib\n",
    "import numpy \n",
    "from traitlets.config.manager import BaseJSONConfigManager\n",
    "path = \"/Users/scot/anaconda3/envs/py36/etc/jupyter/nbconfig\"\n",
    "cm = BaseJSONConfigManager(config_dir=path)\n",
    "cm.update(\"livereveal\", {\"autolaunch\": True,\n",
    "                         \"theme\": \"sky\",\n",
    "                        } \n",
    ")   \n",
    "\n",
    "#Supress default INFO logging\n",
    "\n",
    "\n",
    "# The UT Dallas Art Science Lab Training module \n",
    "print (\"The UTDallas ArtSci Lab Sonification Training Orientation Module.\")\n",
    "print(\"\\n\")\n",
    "print(\"Here are the instructions for those unfamiliar with these sonification training modules\" )\n",
    "print(\"\\n Basic Instructions for each cell :\")\n",
    "print('1. Press \"Shift + Enter\" at every new cell to initiate display/execute that cell')\n",
    "print(\"2. Hit the Space Bar to go to next section (cell)\")\n",
    "print(\"\\n\")\n",
    "print(\"These are the two main actions that you need to move forward, cell by cell in each unit\")\n",
    "print(\"This is how this system functions\")\n",
    "print(\"Do these now\")"
   ]
  },
  {
   "cell_type": "markdown",
   "metadata": {
    "hide_input": false,
    "slideshow": {
     "slide_type": "slide"
    }
   },
   "source": [
    "# Please put on your best headphones on and Set your system Volume to 50%.\n",
    "\n",
    "In the next cell there will be a video to play to check your headphone and volume level.\n",
    "There is no particular reason for this cell to use \"Shift+Enter\", since it is just text, but do it NOW anyway to get used to using the \"Shift+Enter\" action for each cell. \n",
    "Now (as before) use Space Bar or arrows at bottom right to navigate to next section."
   ]
  },
  {
   "cell_type": "code",
   "execution_count": 4,
   "metadata": {
    "hideCode": false,
    "hidePrompt": false,
    "hide_input": true,
    "scrolled": true,
    "slideshow": {
     "slide_type": "slide"
    }
   },
   "outputs": [
    {
     "data": {
      "text/html": [
       "# Okay, Hit \"Shift+Enter\" to load in the video with this command, not a normal webpage ;-)\n",
       "<video width=\"640\" height=\"480\" controls>\n",
       "  <source src=\"dep/videos/Listening_TestV2.mp4\" type=\"video/mp4\">\n",
       "</video>\n",
       "</br>\n",
       "<b>   After you watch the video, then press Space Bar to proceed to the next cell</b>\n",
       "\n"
      ],
      "text/plain": [
       "<IPython.core.display.HTML object>"
      ]
     },
     "metadata": {},
     "output_type": "display_data"
    }
   ],
   "source": [
    "%%HTML\n",
    "# Okay, Hit \"Shift+Enter\" to load in the video with this command, not a normal webpage ;-)\n",
    "<video width=\"640\" height=\"480\" controls>\n",
    "  <source src=\"dep/videos/Listening_TestV2.mp4\" type=\"video/mp4\">\n",
    "</video>\n",
    "</br>\n",
    "<b>   After you watch the video, then press Space Bar to proceed to the next cell</b>\n",
    "\n",
    "\n"
   ]
  },
  {
   "cell_type": "code",
   "execution_count": 7,
   "metadata": {
    "hide_input": true,
    "slideshow": {
     "slide_type": "slide"
    }
   },
   "outputs": [
    {
     "name": "stdout",
     "output_type": "stream",
     "text": [
      "Make sure and hit \"Shift + Enter\" if you have not yet\n",
      "Could you hear sound on both headphones?\n"
     ]
    },
    {
     "data": {
      "application/vnd.jupyter.widget-view+json": {
       "model_id": "ea26b49575b1413595f268c733074ba3",
       "version_major": 2,
       "version_minor": 0
      },
      "text/plain": [
       "HBox(children=(Button(description='Yes', style=ButtonStyle()), Button(description='No', style=ButtonStyle())))"
      ]
     },
     "metadata": {},
     "output_type": "display_data"
    }
   ],
   "source": [
    "from ipywidgets import interact, interactive, fixed, interact_manual\n",
    "import ipywidgets as widgets\n",
    "import gtts as gTTS\n",
    "# Make sure and hit \"Shift + Enter\" if you have not yet\n",
    "print(\"Could you hear sound on both headphones?\")\n",
    "yesno=['Yes','No']\n",
    "button1 = widgets.Button(description = yesno[0])\n",
    "button2 = widgets.Button(description = yesno[1])\n",
    "#tts = gTTS(text=name+' Do you have a hearing disability? Click Yes or No', lang='en')\n",
    "#tts.save(\"answer.mp3\") \n",
    "#os.system(\"afplay answer.mp3\")\n",
    "container = widgets.HBox(children=[button1,button2])\n",
    "display(container)\n",
    "\n",
    "    \n",
    "def on_button1_clicked(b):\n",
    "    choice = b.description\n",
    "    b.color = 'white'\n",
    "    tts = gTTS(text='Great. Please use the scroll on the lower right corner to proceed on to the next section', lang='en')\n",
    "    tts.save(\"answer.mp3\") \n",
    "    #os.system(\"afplay answer.mp3\")\n",
    "    clear_output()\n",
    "    print(\"Please Proceed onto the next Section (Press Spacebar or Arrow at Bottom Right corner)\")\n",
    "        \n",
    "def on_button2_clicked(b):\n",
    "    # [insert code to record choice] \n",
    "    tts = gTTS(text='Please check your system sound settings and headphones & try again', lang='en')\n",
    "    tts.save(\"answer.mp3\") \n",
    "    #os.system(\"afplay answer.mp3\")\n",
    "    container.close()\n",
    "    clear_output()\n",
    "    print(\"Please check your system sound settings and headphones & start afresh\")\n",
    "\n",
    "button1.on_click(on_button1_clicked)\n",
    "button2.on_click(on_button2_clicked)"
   ]
  },
  {
   "cell_type": "code",
   "execution_count": null,
   "metadata": {
    "hideCode": false,
    "hidePrompt": false,
    "hide_input": true,
    "slideshow": {
     "slide_type": "slide"
    }
   },
   "outputs": [],
   "source": [
    "# Hearing Test Training Module\n",
    "_You are about to embark on an adventure in listening_ \n",
    "It is important that you take the time to understanding your hearing. Everyone's hearing is slightly different. The first part of your path to listening for subtlties in spoken word, music and other sounds made from data is to self-evaluate your own hearing.\n",
    "We suggest that you grab your best headphones and that you take an online hearing test \n"
   ]
  },
  {
   "cell_type": "markdown",
   "metadata": {
    "hide_input": true,
    "slideshow": {
     "slide_type": "slide"
    }
   },
   "source": [
    "Make sure and hit \"Shift + Enter\" if you have not yet\n",
    "## If you decide to take the online hearing test, be sure and test both ears individually and print out the results of both those tests. \n",
    "_As you move forward in these sonification training modules these print outs will aid you in self-evaluating your understanding of sound in relationship to your own ears and the way YOU are hearing the world.__\n",
    "\n",
    "[ONLINE HEARING TEST link - click here](https://hearingtest.online) \n",
    "\n",
    "_REMEMBER: Print out the results for future reference_\n",
    "    \n",
    "    Hit space to go to the next slide and final slide for this orientation"
   ]
  },
  {
   "cell_type": "code",
   "execution_count": null,
   "metadata": {
    "hide_input": true,
    "slideshow": {
     "slide_type": "slide"
    }
   },
   "outputs": [],
   "source": [
    "import random\n",
    "import time\n",
    "from IPython.display import Image, display, clear_output\n",
    "from ipywidgets import Button, HBox, VBox,Layout\n",
    "from ipywidgets import widgets\n",
    "from ipywidgets import interact, interactive, fixed, interact_manual\n",
    "from gtts import gTTS\n",
    "import os\n",
    "import numpy\n",
    "import ctcsound\n",
    "import platform\n",
    "import os\n",
    "speechflag = 0\n",
    "if (platform.system()=='Windows'):\n",
    "    speechflag = 2\n",
    "if (platform.system()!='Windows'):\n",
    "    speechflag = 1\n",
    "\n",
    "print (\"Listen to the Sonification, Set the Slider to what Percentage you think it represents and Submit Response. You will undergo 5 trials\")\n",
    "count=0\n",
    "accuracy =0\n",
    "\n",
    "pan = 0\n",
    "user_input=0\n",
    "cs = ctcsound.Csound()\n",
    "index = 0\n",
    "\n",
    "csd = '''\n",
    "<CsoundSynthesizer>\n",
    "<CsOptions>\n",
    "-o dac\n",
    "</CsOptions>\n",
    "<CsInstruments>\n",
    ";\n",
    "sr = 44100\n",
    "ksmps = 32\n",
    "nchnls = 2\n",
    "0dbfs = 1\n",
    "\n",
    "giSine    ftgen     0, 0, 2^10, 10, 1\n",
    "\n",
    "instr 1 ;master instrument\n",
    "inumparts =         p4 ;number of partials\n",
    "ibasfreq  =         200 ;base frequency\n",
    "ipart     =         1 ;count variable for loop\n",
    ";loop for inumparts over the ipart variable\n",
    ";and trigger inumpartss instanes of the subinstrument\n",
    "loop:\n",
    "ifreq     =         ibasfreq * ipart\n",
    "iamp      =         1/ipart/inumparts\n",
    "          event_i   \"i\", 10, 0, p3, ifreq, iamp\n",
    "          loop_le   ipart, 1, inumparts, loop\n",
    "endin\n",
    "\n",
    "instr 10 ;subinstrument for playing one partial\n",
    "ifreq     =         p4 ;frequency of this partial\n",
    "iamp      =         p5 ;amplitude of this partial\n",
    "aenv      transeg   0, .01, 0, iamp, p3-0.1, -10, 0\n",
    "apart     poscil    aenv, ifreq, giSine\n",
    "          outs      apart, apart\n",
    "endin\n",
    "\n",
    "\n",
    "\n",
    "</CsInstruments>\n",
    "<CsScore>\n",
    "f 0 14400\n",
    "f 1 0 1024 10 1 \n",
    "\n",
    "</CsScore>\n",
    "\n",
    "</CsoundSynthesizer>\n",
    "'''\n",
    "\n",
    "cs.compileCsdText(csd)\n",
    "cs.start()\n",
    "pt = ctcsound.CsoundPerformanceThread(cs.csound())\n",
    "pt.play()\n",
    "\n",
    "\n",
    "\n",
    "def f(percentage):\n",
    "    global user_input\n",
    "    user_input = percentage\n",
    "\n",
    "\n",
    "\n",
    "def redraw(): \n",
    "    \n",
    "    global index\n",
    "    global accuracy\n",
    "    sonibutton = widgets.Button(description = 'Listen to Sonification')\n",
    "    answerbutton = widgets.Button(description='Submit Response')\n",
    "    choices = random.sample(range(100), 4)\n",
    "    choices = list(map(str, choices))\n",
    "    correct = random.choice(choices)\n",
    "    index = int(correct)\n",
    "\n",
    "    #display(Image(correct))\n",
    "    #display(correct)\n",
    "    time.sleep(0.5)\n",
    "    \n",
    "    \n",
    "    #display(button)\n",
    "    #button.on_click(on_button_clicked)\n",
    "    \n",
    "    #buttons = [widgets.Button(description = choice) for choice in choices]\n",
    "    #sonibutton = [widgets.Button(description = 'Listen to Sonification')]\n",
    "    interact (f, percentage=(0,100,1))\n",
    "    #answerbutton = [widgets.Button(description='Submit Input')]\n",
    "    \n",
    "    #container = widgets.HBox(children=buttons)\n",
    "\n",
    "    \n",
    "    left_box = VBox([(sonibutton)])\n",
    "    right_box = VBox([(answerbutton)])\n",
    "    #HBox([left_box, right_box])\n",
    "    container = widgets.HBox([left_box,right_box])\n",
    "    print(\"Trial \" + str(count+1))\n",
    "    display(container)\n",
    "    \n",
    "\n",
    "\n",
    "    def ans_button_clicked(b):\n",
    "            global count\n",
    "            global accuracy\n",
    "            count = count + 1\n",
    "            tts = gTTS(text='Input Submitted', lang='en')\n",
    "            tts.save(\"answer.mp3\") \n",
    "            \n",
    "            if (speechflag==1):\n",
    "                os.system(\"afplay answer.mp3\")\n",
    "            if (speechflag==2):\n",
    "                os.system(\"cmdmp3 answer.mp3\")\n",
    "            \n",
    "            text=list()\n",
    "            text.append(index)\n",
    "            text.append(user_input)\n",
    "            text.append(index-user_input)\n",
    "            accuracy = accuracy + abs(index -user_input)\n",
    "            with open('drop_responses.csv','a') as file:\n",
    "                file.write('\\n')\n",
    "                for line in text:\n",
    "                    file.write(str(line))\n",
    "                    file.write(',')\n",
    "            time.sleep(2)\n",
    "            container.close()\n",
    "            clear_output()\n",
    "            if count <5:\n",
    "                redraw()\n",
    "            if count == 5:\n",
    "                msg = widgets.Button(description = 'Thank you for finishing this module',layout=Layout(width='50%', height='80px'))\n",
    "                display(msg)\n",
    "                print(\"Your accuracy of response is \" + str(100-(accuracy/5)) + \"%\")\n",
    "                pt.stop()\n",
    "                pt.join()\n",
    "                file.close()\n",
    "            \n",
    "        \n",
    "    def son_button_clicked(b):\n",
    "            \n",
    "            #tts = gTTS(text='Playing Sonification', lang='en')\n",
    "            #tts.save(\"answer.mp3\") \n",
    "            #os.system(\"afplay answer.mp3\")\n",
    "            \n",
    "            in_min  = 0\n",
    "            in_max = 100\n",
    "            out_min=0\n",
    "            out_max = 20\n",
    "        \n",
    "            global index\n",
    "    \n",
    "            freq = (index - in_min) * (out_max - out_min) / (in_max - in_min) + out_min  \n",
    "            #print(freq)  \n",
    "    \n",
    "            pt.scoreEvent(False, 'i', (1, 0, 3,freq))\n",
    "            time.sleep(4.5)\n",
    "             \n",
    "            \n",
    "        \n",
    "        \n",
    "    answerbutton.on_click(ans_button_clicked)\n",
    "    sonibutton.on_click(son_button_clicked)\n",
    "\n",
    "\n",
    " \n",
    "   \n",
    "    \n",
    "\n",
    "redraw()\n",
    "\n",
    "\n"
   ]
  },
  {
   "cell_type": "markdown",
   "metadata": {},
   "source": [
    "Make sure and hit \"Shift + Enter\" if you have not yet\n",
    "## Completion of the Sonification Orientation module\n",
    "Now you have an idea of what is involved in using the Training, Exploring and Testing modules\n",
    "In the upcoming modules you will be interacting with actual code that converts data into sound\n",
    "This format of educating the listener, then giving a chance to explore and understand \n",
    "is followed by a set of simple game like interactions that will help us understand \n",
    "what is and is not working.\n",
    "\n",
    "Please open the next notebook _Full_or_Empty_Training_Module_ in the list you started with."
   ]
  },
  {
   "cell_type": "code",
   "execution_count": null,
   "metadata": {},
   "outputs": [],
   "source": []
  }
 ],
 "metadata": {
  "celltoolbar": "Slideshow",
  "hide_code_all_hidden": false,
  "hide_input": true,
  "kernelspec": {
   "display_name": "Python 3",
   "language": "python",
   "name": "python3"
  },
  "language_info": {
   "codemirror_mode": {
    "name": "ipython",
    "version": 3
   },
   "file_extension": ".py",
   "mimetype": "text/x-python",
   "name": "python",
   "nbconvert_exporter": "python",
   "pygments_lexer": "ipython3",
   "version": "3.6.5"
  }
 },
 "nbformat": 4,
 "nbformat_minor": 2
}
