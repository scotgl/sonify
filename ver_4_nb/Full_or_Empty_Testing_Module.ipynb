{
 "cells": [
  {
   "cell_type": "code",
   "execution_count": 2,
   "metadata": {
    "hideCode": false,
    "hidePrompt": false,
    "hide_input": true,
    "scrolled": false,
    "slideshow": {
     "slide_type": "slide"
    }
   },
   "outputs": [
    {
     "name": "stdout",
     "output_type": "stream",
     "text": [
      "The UTDallas ArtSci Lab Sonification \"Half-Empty/Half-Full\" Testing Module.\n",
      "\n",
      "\n",
      "Refresher instructions for those unfamiliar with these sonification training modules\n",
      "\n",
      " Basic Instructions for each cell :\n",
      "1. Press \"Shift + Enter\" at every new cell to initiate display/execute that cell\n",
      "2. Hit the Space Bar to go to next section (cell)\n",
      "\n",
      "\n",
      "These are the two main actions that you need to move forward, cell by cell in each unit\n",
      "This is how this system functions\n",
      "Do these now\n"
     ]
    }
   ],
   "source": [
    "from ipywidgets import interact, interactive, fixed, interact_manual\n",
    "import ipywidgets as widgets\n",
    "from gtts import gTTS\n",
    "import matplotlib\n",
    "import numpy \n",
    "from traitlets.config.manager import BaseJSONConfigManager\n",
    "path = \"/Users/scot/anaconda3/envs/py36/etc/jupyter/nbconfig\"\n",
    "cm = BaseJSONConfigManager(config_dir=path)\n",
    "cm.update(\"livereveal\", {\"autolaunch\": True,\n",
    "                         \"theme\": \"sky\",\n",
    "                        } \n",
    ")\n",
    "\n",
    "\n",
    "\n",
    "#Supress default INFO logging\n",
    "# The UT Dallas Art Science Lab Training module \n",
    "print ('The UTDallas ArtSci Lab Sonification \"Half-Empty/Half-Full\" Testing Module.')\n",
    "print(\"\\n\")\n",
    "print(\"Refresher instructions for those unfamiliar with these sonification training modules\" )\n",
    "print(\"\\n Basic Instructions for each cell :\")\n",
    "print('1. Press \"Shift + Enter\" at every new cell to initiate display/execute that cell')\n",
    "print(\"2. Hit the Space Bar to go to next section (cell)\")\n",
    "print(\"\\n\")\n",
    "print(\"These are the two main actions that you need to move forward, cell by cell in each unit\")\n",
    "print(\"This is how this system functions\")\n",
    "print(\"Do these now\")"
   ]
  },
  {
   "cell_type": "markdown",
   "metadata": {
    "hide_input": false,
    "slideshow": {
     "slide_type": "slide"
    }
   },
   "source": [
    "## As Before, Please put on your best headphones on and Set your system Volume to 50%.\n",
    "# Now a little game with this simple sonificaiton, Can you get 80% or higher? ... !\n",
    "## Use Space Bar or arrows at bottom right to navigate to next section"
   ]
  },
  {
   "cell_type": "code",
   "execution_count": 3,
   "metadata": {
    "hide_input": true,
    "slideshow": {
     "slide_type": "slide"
    }
   },
   "outputs": [
    {
     "name": "stdout",
     "output_type": "stream",
     "text": [
      "Listen to the Sonification, Set the Slider to what Percentage you think it represents and Submit Response. You will undergo 5 trials\n"
     ]
    },
    {
     "data": {
      "application/vnd.jupyter.widget-view+json": {
       "model_id": "f312d75bf621453f8ac86258acad39fd",
       "version_major": 2,
       "version_minor": 0
      },
      "text/plain": [
       "interactive(children=(IntSlider(value=50, description='percentage'), Output()), _dom_classes=('widget-interact…"
      ]
     },
     "metadata": {},
     "output_type": "display_data"
    },
    {
     "name": "stdout",
     "output_type": "stream",
     "text": [
      "Trial 1\n"
     ]
    },
    {
     "data": {
      "application/vnd.jupyter.widget-view+json": {
       "model_id": "acafb6af00b54af9a7165b87e92530d4",
       "version_major": 2,
       "version_minor": 0
      },
      "text/plain": [
       "HBox(children=(VBox(children=(Button(description='Listen to Sonification', style=ButtonStyle()),)), VBox(child…"
      ]
     },
     "metadata": {},
     "output_type": "display_data"
    }
   ],
   "source": [
    "import random\n",
    "import time\n",
    "from IPython.display import Image, display, clear_output\n",
    "from ipywidgets import Button, HBox, VBox,Layout\n",
    "from ipywidgets import widgets\n",
    "from ipywidgets import interact, interactive, fixed, interact_manual\n",
    "from gtts import gTTS\n",
    "import os\n",
    "import numpy\n",
    "import ctcsound\n",
    "import platform\n",
    "import os\n",
    "speechflag = 0\n",
    "if (platform.system()=='Windows'):\n",
    "    speechflag = 2\n",
    "if (platform.system()!='Windows'):\n",
    "    speechflag = 1\n",
    "\n",
    "print (\"Listen to the Sonification, Set the Slider to what Percentage you think it represents and Submit Response. You will undergo 5 trials\")\n",
    "count=0\n",
    "accuracy =0\n",
    "\n",
    "pan = 0\n",
    "user_input=0\n",
    "cs = ctcsound.Csound()\n",
    "index = 0\n",
    "\n",
    "csd = '''\n",
    "<CsoundSynthesizer>\n",
    "<CsOptions>\n",
    "-o dac\n",
    "</CsOptions>\n",
    "<CsInstruments>\n",
    ";\n",
    "sr = 44100\n",
    "ksmps = 32\n",
    "nchnls = 2\n",
    "0dbfs = 1\n",
    "\n",
    "giSine    ftgen     0, 0, 2^10, 10, 1\n",
    "\n",
    "instr 1 ;master instrument\n",
    "inumparts =         p4 ;number of partials\n",
    "ibasfreq  =         200 ;base frequency\n",
    "ipart     =         1 ;count variable for loop\n",
    ";loop for inumparts over the ipart variable\n",
    ";and trigger inumpartss instanes of the subinstrument\n",
    "loop:\n",
    "ifreq     =         ibasfreq * ipart\n",
    "iamp      =         1/ipart/inumparts\n",
    "          event_i   \"i\", 10, 0, p3, ifreq, iamp\n",
    "          loop_le   ipart, 1, inumparts, loop\n",
    "endin\n",
    "\n",
    "instr 10 ;subinstrument for playing one partial\n",
    "ifreq     =         p4 ;frequency of this partial\n",
    "iamp      =         p5 ;amplitude of this partial\n",
    "aenv      transeg   0, .01, 0, iamp, p3-0.1, -10, 0\n",
    "apart     poscil    aenv, ifreq, giSine\n",
    "          outs      apart, apart\n",
    "endin\n",
    "\n",
    "\n",
    "\n",
    "</CsInstruments>\n",
    "<CsScore>\n",
    "f 0 14400\n",
    "f 1 0 1024 10 1 \n",
    "\n",
    "</CsScore>\n",
    "\n",
    "</CsoundSynthesizer>\n",
    "'''\n",
    "try:\n",
    "    pt\n",
    "except NameError:\n",
    "    var_exists = False\n",
    "else:\n",
    "    pt.stop()\n",
    "    pt.join()\n",
    "    time.sleep(2)\n",
    "    \n",
    "cs.compileCsdText(csd)\n",
    "cs.start()\n",
    "pt = ctcsound.CsoundPerformanceThread(cs.csound())\n",
    "pt.play()\n",
    "\n",
    "\n",
    "\n",
    "def f(percentage):\n",
    "    global user_input\n",
    "    user_input = percentage\n",
    "\n",
    "\n",
    "\n",
    "def redraw(): \n",
    "    \n",
    "    global index\n",
    "    global accuracy\n",
    "    sonibutton = widgets.Button(description = 'Listen to Sonification')\n",
    "    answerbutton = widgets.Button(description='Submit Response')\n",
    "    choices = random.sample(range(100), 4)\n",
    "    choices = list(map(str, choices))\n",
    "    correct = random.choice(choices)\n",
    "    index = int(correct)\n",
    "\n",
    "    #display(Image(correct))\n",
    "    #display(correct)\n",
    "    time.sleep(0.5)\n",
    "    \n",
    "    \n",
    "    #display(button)\n",
    "    #button.on_click(on_button_clicked)\n",
    "    \n",
    "    #buttons = [widgets.Button(description = choice) for choice in choices]\n",
    "    #sonibutton = [widgets.Button(description = 'Listen to Sonification')]\n",
    "    interact (f, percentage=(0,100,1))\n",
    "    #answerbutton = [widgets.Button(description='Submit Input')]\n",
    "    \n",
    "    #container = widgets.HBox(children=buttons)\n",
    "\n",
    "    \n",
    "    left_box = VBox([(sonibutton)])\n",
    "    right_box = VBox([(answerbutton)])\n",
    "    #HBox([left_box, right_box])\n",
    "    container = widgets.HBox([left_box,right_box])\n",
    "    print(\"Trial \" + str(count+1))\n",
    "    display(container)\n",
    "    \n",
    "\n",
    "\n",
    "    def ans_button_clicked(b):\n",
    "            global count\n",
    "            global accuracy\n",
    "            count = count + 1\n",
    "            tts = gTTS(text='Input Submitted', lang='en')\n",
    "            tts.save(\"answer.mp3\") \n",
    "            \n",
    "            if (speechflag==1):\n",
    "                os.system(\"afplay answer.mp3\")\n",
    "            if (speechflag==2):\n",
    "                os.system(\"cmdmp3 answer.mp3\")\n",
    "            \n",
    "            text=list()\n",
    "            text.append(index)\n",
    "            text.append(user_input)\n",
    "            text.append(index-user_input)\n",
    "            accuracy = accuracy + abs(index -user_input)\n",
    "            with open('drop_responses.csv','a') as file:\n",
    "                file.write('\\n')\n",
    "                for line in text:\n",
    "                    file.write(str(line))\n",
    "                    file.write(',')\n",
    "            time.sleep(2)\n",
    "            container.close()\n",
    "            clear_output()\n",
    "            if count <5:\n",
    "                redraw()\n",
    "            if count == 5:\n",
    "                msg = widgets.Button(description = 'Thank you for finishing this module',layout=Layout(width='50%', height='80px'))\n",
    "                display(msg)\n",
    "                print(\"Your accuracy of response is \" + str(100-(accuracy/5)) + \"%\")\n",
    "                pt.stop()\n",
    "                pt.join()\n",
    "                file.close()\n",
    "            \n",
    "        \n",
    "    def son_button_clicked(b):\n",
    "            \n",
    "            #tts = gTTS(text='Playing Sonification', lang='en')\n",
    "            #tts.save(\"answer.mp3\") \n",
    "            #os.system(\"afplay answer.mp3\")\n",
    "            \n",
    "            in_min  = 0\n",
    "            in_max = 100\n",
    "            out_min=0\n",
    "            out_max = 20\n",
    "        \n",
    "            global index\n",
    "    \n",
    "            freq = (index - in_min) * (out_max - out_min) / (in_max - in_min) + out_min  \n",
    "            #print(freq)  \n",
    "    \n",
    "            pt.scoreEvent(False, 'i', (1, 0, 3,freq))\n",
    "            time.sleep(4.5)\n",
    "             \n",
    "            \n",
    "        \n",
    "        \n",
    "    answerbutton.on_click(ans_button_clicked)\n",
    "    sonibutton.on_click(son_button_clicked)\n",
    "\n",
    "\n",
    " \n",
    "   \n",
    "    \n",
    "\n",
    "redraw()\n",
    "\n",
    "\n",
    "\n"
   ]
  },
  {
   "cell_type": "code",
   "execution_count": null,
   "metadata": {
    "hide_input": false,
    "slideshow": {
     "slide_type": "slide"
    }
   },
   "outputs": [],
   "source": [
    "##  You have completed this set of Training Exploring and Testing!!!\n",
    "\n",
    "Now that you have been evaluated on this straight forward sound representation,\n",
    "it is time to move on to the next phase of seeing what other sonifications are available. \n",
    "Go back to the list of available notebooks and select the next set of sonification to check out. \n"
   ]
  }
 ],
 "metadata": {
  "celltoolbar": "Slideshow",
  "hide_code_all_hidden": false,
  "hide_input": true,
  "kernelspec": {
   "display_name": "Python 3",
   "language": "python",
   "name": "python3"
  },
  "language_info": {
   "codemirror_mode": {
    "name": "ipython",
    "version": 3
   },
   "file_extension": ".py",
   "mimetype": "text/x-python",
   "name": "python",
   "nbconvert_exporter": "python",
   "pygments_lexer": "ipython3",
   "version": "3.6.5"
  }
 },
 "nbformat": 4,
 "nbformat_minor": 2
}
