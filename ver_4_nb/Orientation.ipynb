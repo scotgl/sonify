{
 "cells": [
  {
   "cell_type": "code",
   "execution_count": 24,
   "metadata": {
    "hide_input": false
   },
   "outputs": [
    {
     "name": "stdout",
     "output_type": "stream",
     "text": [
      "The UTDallas ArtSci Lab Sonification Training Orientation Module.\n",
      "\n",
      "\n",
      "Here are the instructions for those unfamiliar with these sonification training modules\n",
      "\n",
      " Basic Instructions for each cell :\n",
      "1. Press \"Shift + Enter\" at every new cell to initiate display/execute that cell\n",
      "2. Hit the Space Bar to go to next section (cell)\n",
      "\n",
      "\n",
      "These are the two main actions that you need to move forward, cell by cell in each unit\n",
      "This is how this system functions\n",
      "Do these now\n"
     ]
    }
   ],
   "source": [
    "from ipywidgets import interact, interactive, fixed, interact_manual\n",
    "import ipywidgets as widgets\n",
    "from gtts import gTTS\n",
    "import matplotlib\n",
    "import numpy \n",
    "from traitlets.config.manager import BaseJSONConfigManager\n",
    "path = \"/Users/scot/anaconda3/envs/py36/etc/jupyter/nbconfig\"\n",
    "cm = BaseJSONConfigManager(config_dir=path)\n",
    "cm.update(\"livereveal\", {\"autolaunch\": True,\n",
    "                         \"theme\": \"sky\",\n",
    "                        } \n",
    ")   \n",
    "\n",
    "#Supress default INFO logging\n",
    "\n",
    "\n",
    "# The UT Dallas Art Science Lab Training module \n",
    "print (\"The UTDallas ArtSci Lab Sonification Training Orientation Module.\")\n",
    "print(\"\\n\")\n",
    "print(\"Here are the instructions for those unfamiliar with these sonification training modules\" )\n",
    "print(\"\\n Basic Instructions for each cell :\")\n",
    "print('1. Press \"Shift + Enter\" at every new cell to initiate display/execute that cell')\n",
    "print(\"2. Hit the Space Bar to go to next section (cell)\")\n",
    "print(\"\\n\")\n",
    "print(\"These are the two main actions that you need to move forward, cell by cell in each unit\")\n",
    "print(\"This is how this system functions\")\n",
    "print(\"Do these now\")"
   ]
  },
  {
   "cell_type": "code",
   "execution_count": null,
   "metadata": {
    "hide_input": false
   },
   "outputs": [],
   "source": [
    "# Please put on your best headphones on and Set your system Volume to 50%.\n",
    "\n",
    "In the next cell there will be a video to play to check your headphone and volume level.\n",
    "There is no particular reason for this cell to use \"Shift+Enter\", since it is just text, but do it NOW anyway to get used to using the \"Shift+Enter\" action for each cell. \n",
    "Now (as before) use Space Bar or arrows at bottom right to navigate to next section.\n"
   ]
  },
  {
   "cell_type": "code",
   "execution_count": 1,
   "metadata": {
    "hide_input": false,
    "scrolled": true
   },
   "outputs": [
    {
     "data": {
      "text/html": [
       "# Okay, Hit \"Shift+Enter\" to load in the video with this command, not a normal webpage ;-)\n",
       "<video width=\"640\" height=\"480\" controls>\n",
       "  <source src=\"dep/videos/Listening_TestV2.mp4\" type=\"video/mp4\">\n",
       "</video>\n",
       "</br>\n",
       "<b>   After you watch the video, then press Space Bar to proceed to the next cell</b>"
      ],
      "text/plain": [
       "<IPython.core.display.HTML object>"
      ]
     },
     "metadata": {},
     "output_type": "display_data"
    }
   ],
   "source": [
    "%%HTML\n",
    "# Okay, Hit \"Shift+Enter\" to load in the video with this command, not a normal webpage ;-)\n",
    "<video width=\"640\" height=\"480\" controls>\n",
    "  <source src=\"dep/videos/Listening_TestV2.mp4\" type=\"video/mp4\">\n",
    "</video>\n",
    "</br>\n",
    "<b>   After you watch the video, then press Space Bar to proceed to the next cell</b>"
   ]
  },
  {
   "cell_type": "code",
   "execution_count": 3,
   "metadata": {
    "hide_input": true
   },
   "outputs": [
    {
     "name": "stdout",
     "output_type": "stream",
     "text": [
      "Could you hear sound on both headphones?\n"
     ]
    },
    {
     "data": {
      "application/vnd.jupyter.widget-view+json": {
       "model_id": "b30baaa0cb7f4ad5a884b5d18df2438f",
       "version_major": 2,
       "version_minor": 0
      },
      "text/plain": [
       "HBox(children=(Button(description='Yes', style=ButtonStyle()), Button(description='No', style=ButtonStyle())))"
      ]
     },
     "metadata": {},
     "output_type": "display_data"
    }
   ],
   "source": [
    "from ipywidgets import interact, interactive, fixed, interact_manual\n",
    "import ipywidgets as widgets\n",
    "import gtts as gTTS\n",
    "print(\"Could you hear sound on both headphones?\")\n",
    "yesno=['Yes','No']\n",
    "button1 = widgets.Button(description = yesno[0])\n",
    "button2 = widgets.Button(description = yesno[1])\n",
    "#tts = gTTS(text=name+' Do you have a hearing disability? Click Yes or No', lang='en')\n",
    "#tts.save(\"answer.mp3\") \n",
    "#os.system(\"afplay answer.mp3\")\n",
    "container = widgets.HBox(children=[button1,button2])\n",
    "display(container)\n",
    "\n",
    "    \n",
    "def on_button1_clicked(b):\n",
    "    choice = b.description\n",
    "    b.color = 'white'\n",
    "    tts = gTTS(text='Great. Please use the scroll on the lower right corner to proceed on to the next section', lang='en')\n",
    "    tts.save(\"answer.mp3\") \n",
    "    #os.system(\"afplay answer.mp3\")\n",
    "    clear_output()\n",
    "    print(\"Please Proceed onto the next Section (Press Spacebar or Arrow at Bottom Right corner)\")\n",
    "        \n",
    "def on_button2_clicked(b):\n",
    "    # [insert code to record choice] \n",
    "    tts = gTTS(text='Please check your system sound settings and headphones & try again', lang='en')\n",
    "    tts.save(\"answer.mp3\") \n",
    "    #os.system(\"afplay answer.mp3\")\n",
    "    container.close()\n",
    "    clear_output()\n",
    "    print(\"Please check your system sound settings and headphones & start afresh\")\n",
    "\n",
    "button1.on_click(on_button1_clicked)\n",
    "button2.on_click(on_button2_clicked)"
   ]
  },
  {
   "cell_type": "markdown",
   "metadata": {
    "hide_input": false
   },
   "source": [
    "## Hearing Test Training Module\n",
    "_You are about to embark on an adventure in listening_ \n",
    "It is important that you take the time to understanding your hearing. Everyone's hearing is slightly different. The first part of your path to listening for subtlties in spoken word, music and other sounds made from data is to self-evaluate your own hearing.\n",
    "We suggest that you grab your best headphones and that you take an online hearing test\n",
    "\n",
    "(Did you remember to do \"Shift + Enter\"? Of course, hit space to go to the next slide)\n"
   ]
  },
  {
   "cell_type": "markdown",
   "metadata": {
    "hide_input": true
   },
   "source": [
    "## If you decide to take the online hearing test, be sure and test both ears individually and print out the results of both those tests. \n",
    "_As you move forward in these sonification training modules these print outs will aid you in self-evaluating your understanding of sound in relationship to your own ears and the way YOU are hearing the world.__\n",
    "\n",
    "[ONLINE HEARING TEST link - click here](https://hearingtest.online) \n",
    "\n",
    "_REMEMBER: Print out the results for future reference_\n",
    "    \n",
    "    Hit space to go to the next slide and final slide for this orientation"
   ]
  },
  {
   "cell_type": "markdown",
   "metadata": {
    "hide_input": true
   },
   "source": [
    "## Completion of the Sonification Orientation module\n",
    "Now you have an idea of what is involved in using the Training, Exploring and Testing modules\n",
    "In the upcoming modules you will be interacting with actual code that converts data into sound\n",
    "This format of educating the listener, then giving a chance to explore and understand \n",
    "is followed by a set of simple game like interactions that will help us understand \n",
    "what is and is not working.\n",
    "\n",
    "Please open the next notebook _Full_or_Empty_Training_Module_ in the list you started with."
   ]
  },
  {
   "cell_type": "code",
   "execution_count": null,
   "metadata": {},
   "outputs": [],
   "source": []
  }
 ],
 "metadata": {
  "kernelspec": {
   "display_name": "Python 3",
   "language": "python",
   "name": "python3"
  },
  "language_info": {
   "codemirror_mode": {
    "name": "ipython",
    "version": 3
   },
   "file_extension": ".py",
   "mimetype": "text/x-python",
   "name": "python",
   "nbconvert_exporter": "python",
   "pygments_lexer": "ipython3",
   "version": "3.6.5"
  }
 },
 "nbformat": 4,
 "nbformat_minor": 2
}
