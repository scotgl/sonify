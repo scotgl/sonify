{
 "cells": [
  {
   "cell_type": "code",
   "execution_count": 2,
   "metadata": {
    "hideCode": false,
    "hidePrompt": false,
    "hide_input": true,
    "scrolled": false,
    "slideshow": {
     "slide_type": "slide"
    }
   },
   "outputs": [
    {
     "name": "stdout",
     "output_type": "stream",
     "text": [
      "The UTDallas ArtSci Lab Sonification \"Panned Pulse\" Exploration Module.\n",
      "\n",
      "\n",
      "Here are the instructions for those unfamiliar with these sonification training modules\n",
      "\n",
      " Basic Instructions for each cell :\n",
      "1. Press \"Shift + Enter\" at every new cell to initiate display/execute that cell\n",
      "2. Hit the Space Bar to go to next section (cell)\n",
      "\n",
      "\n",
      "These are the two main actions that you need to move forward, cell by cell in each unit\n",
      "This is how this system functions\n",
      "Do these now\n"
     ]
    }
   ],
   "source": [
    "from ipywidgets import interact, interactive, fixed, interact_manual\n",
    "import ipywidgets as widgets\n",
    "from gtts import gTTS\n",
    "import matplotlib\n",
    "import numpy \n",
    "from traitlets.config.manager import BaseJSONConfigManager\n",
    "path = \"/Users/scot/anaconda3/envs/py36/etc/jupyter/nbconfig\"\n",
    "cm = BaseJSONConfigManager(config_dir=path)\n",
    "cm.update(\"livereveal\", {\"autolaunch\": True,\n",
    "                         \"theme\": \"sky\",\n",
    "                        } \n",
    ")\n",
    "\n",
    "\n",
    "\n",
    "#Supress default INFO logging\n",
    "# The UT Dallas Art Science Lab Training module \n",
    "print ('The UTDallas ArtSci Lab Sonification \"Panned Pulse\" Exploration Module.')\n",
    "print(\"\\n\")\n",
    "print(\"Here are the instructions for those unfamiliar with these sonification training modules\" )\n",
    "print(\"\\n Basic Instructions for each cell :\")\n",
    "print('1. Press \"Shift + Enter\" at every new cell to initiate display/execute that cell')\n",
    "print(\"2. Hit the Space Bar to go to next section (cell)\")\n",
    "print(\"\\n\")\n",
    "print(\"These are the two main actions that you need to move forward, cell by cell in each unit\")\n",
    "print(\"This is how this system functions\")\n",
    "print(\"Do these now\")"
   ]
  },
  {
   "cell_type": "code",
   "execution_count": null,
   "metadata": {
    "hide_input": false,
    "slideshow": {
     "slide_type": "slide"
    }
   },
   "outputs": [],
   "source": [
    "# As Before, Please put on your best headphones on and Set your system Volume to 50%.\n",
    "This is a simple sonificaiton, !\n",
    "# Use Space Bar or arrows at bottom right to navigate to next section"
   ]
  },
  {
   "cell_type": "code",
   "execution_count": 3,
   "metadata": {
    "slideshow": {
     "slide_type": "slide"
    }
   },
   "outputs": [
    {
     "name": "stdout",
     "output_type": "stream",
     "text": [
      "Use the Slider to set a Value and Click the Sonify Me Button to listen. Try to explore and listen to the variation of as many values in the range. Proceed to the next section when you think you are ready.\n"
     ]
    },
    {
     "data": {
      "application/vnd.jupyter.widget-view+json": {
       "model_id": "89b20c3b39fc47a989fd78720c5f4e23",
       "version_major": 2,
       "version_minor": 0
      },
      "text/plain": [
       "interactive(children=(IntSlider(value=50, description='percentage'), Output()), _dom_classes=('widget-interact…"
      ]
     },
     "metadata": {},
     "output_type": "display_data"
    },
    {
     "data": {
      "application/vnd.jupyter.widget-view+json": {
       "model_id": "a585d9130dc94a658636cf07b6999f5a",
       "version_major": 2,
       "version_minor": 0
      },
      "text/plain": [
       "Button(description='Sonify Me!', style=ButtonStyle())"
      ]
     },
     "metadata": {},
     "output_type": "display_data"
    }
   ],
   "source": [
    "%run ./dep/scripts/pan.py\n",
    "print(\"Use the Slider to set a Value and Click the Sonify Me Button to listen. Try to explore and listen to the variation of as many values in the range. Proceed to the next section when you think you are ready.\")\n",
    "interact (f, percentage=(0,100,1))\n",
    "\n",
    "button = widgets.Button(description=\"Sonify Me!\")\n",
    "display(button)\n",
    "button.on_click(on_button_clicked)\n"
   ]
  },
  {
   "cell_type": "markdown",
   "metadata": {
    "hide_input": false,
    "slideshow": {
     "slide_type": "slide"
    }
   },
   "source": [
    "## Time to move onto the Testing Module\n",
    "\n",
    "Now that you have explored this straight forward sound representation,\n",
    "it is time to move on to the next phase of seeing how well you get this sonification. \n",
    "Go back to the list of available notebooks and select \"Panned Pulse Testing Module\"\n"
   ]
  },
  {
   "cell_type": "code",
   "execution_count": null,
   "metadata": {},
   "outputs": [],
   "source": []
  }
 ],
 "metadata": {
  "celltoolbar": "Slideshow",
  "hide_code_all_hidden": false,
  "hide_input": true,
  "kernelspec": {
   "display_name": "Python 3",
   "language": "python",
   "name": "python3"
  },
  "language_info": {
   "codemirror_mode": {
    "name": "ipython",
    "version": 3
   },
   "file_extension": ".py",
   "mimetype": "text/x-python",
   "name": "python",
   "nbconvert_exporter": "python",
   "pygments_lexer": "ipython3",
   "version": "3.6.5"
  }
 },
 "nbformat": 4,
 "nbformat_minor": 2
}
