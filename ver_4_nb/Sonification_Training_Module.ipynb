{
 "cells": [
  {
   "cell_type": "code",
   "execution_count": 2,
   "metadata": {
    "hideCode": false,
    "hidePrompt": false,
    "hide_input": true,
    "scrolled": true,
    "slideshow": {
     "slide_type": "slide"
    }
   },
   "outputs": [
    {
     "name": "stdout",
     "output_type": "stream",
     "text": [
      "The ArtSci Lab Sonification Training Module. Instructions :\n",
      "\n",
      "\n",
      "1. Hit the Space Bar or Right Arrow (Bottom Right corner) to go to next section\n",
      "\n",
      "\n",
      "2. Press Shift + Enter at Every New Section to initiate display/execute a section\n"
     ]
    }
   ],
   "source": [
    "from traitlets.config.manager import BaseJSONConfigManager\n",
    "path = \"/Users/scot/anaconda3/envs/py36/etc/jupyter/nbconfig\"\n",
    "cm = BaseJSONConfigManager(config_dir=path)\n",
    "cm.update(\"livereveal\", {\"autolaunch\": True,\n",
    "                         \"theme\": \"sky\",\n",
    "                        } \n",
    ")\n",
    "\n",
    "\n",
    "    \n",
    "\n",
    "#Supress default INFO logging\n",
    "\n",
    "\n",
    "# The UT Dallas Art Science Lab Training module \n",
    "print (\"The ArtSci Lab Sonification Training Module. Instructions :\")\n",
    "print(\"\\n\")\n",
    "print(\"1. Hit the Space Bar or Right Arrow (Bottom Right corner) to go to next section\")\n",
    "print(\"\\n\")\n",
    "print(\"2. Press Shift + Enter at Every New Section to initiate display/execute a section\")"
   ]
  },
  {
   "cell_type": "markdown",
   "metadata": {
    "hide_input": true,
    "slideshow": {
     "slide_type": "slide"
    }
   },
   "source": [
    "# Please put on your best headphones on and Set your system Volume to 50%. \n",
    "# Use Space Bar or arrows at bottom right to navigate to next section"
   ]
  },
  {
   "cell_type": "code",
   "execution_count": 3,
   "metadata": {
    "hideCode": false,
    "hidePrompt": false,
    "hide_input": false,
    "scrolled": true,
    "slideshow": {
     "slide_type": "slide"
    }
   },
   "outputs": [
    {
     "data": {
      "text/html": [
       "<video width=\"640\" height=\"480\" controls>\n",
       "  <source src=\"Listening_TestV2.mp4\" type=\"video/mp4\">\n",
       "</video>\n",
       "<b>Press Space Bar to proceed</b>\n",
       "\n"
      ],
      "text/plain": [
       "<IPython.core.display.HTML object>"
      ]
     },
     "metadata": {},
     "output_type": "display_data"
    }
   ],
   "source": [
    "%%HTML\n",
    "<video width=\"640\" height=\"480\" controls>\n",
    "  <source src=\"Listening_TestV2.mp4\" type=\"video/mp4\">\n",
    "</video>\n",
    "<b>Press Space Bar to proceed</b>\n",
    "\n",
    "\n"
   ]
  },
  {
   "cell_type": "code",
   "execution_count": 4,
   "metadata": {
    "hide_input": true,
    "slideshow": {
     "slide_type": "slide"
    }
   },
   "outputs": [
    {
     "name": "stdout",
     "output_type": "stream",
     "text": [
      "Could you hear sound on both headphones?\n"
     ]
    },
    {
     "ename": "NameError",
     "evalue": "name 'widgets' is not defined",
     "output_type": "error",
     "traceback": [
      "\u001b[0;31m---------------------------------------------------------------------------\u001b[0m",
      "\u001b[0;31mNameError\u001b[0m                                 Traceback (most recent call last)",
      "\u001b[0;32m<ipython-input-4-96d5c01e14e1>\u001b[0m in \u001b[0;36m<module>\u001b[0;34m()\u001b[0m\n\u001b[1;32m      1\u001b[0m \u001b[0mprint\u001b[0m\u001b[0;34m(\u001b[0m\u001b[0;34m\"Could you hear sound on both headphones?\"\u001b[0m\u001b[0;34m)\u001b[0m\u001b[0;34m\u001b[0m\u001b[0m\n\u001b[1;32m      2\u001b[0m \u001b[0myesno\u001b[0m\u001b[0;34m=\u001b[0m\u001b[0;34m[\u001b[0m\u001b[0;34m'Yes'\u001b[0m\u001b[0;34m,\u001b[0m\u001b[0;34m'No'\u001b[0m\u001b[0;34m]\u001b[0m\u001b[0;34m\u001b[0m\u001b[0m\n\u001b[0;32m----> 3\u001b[0;31m \u001b[0mbutton1\u001b[0m \u001b[0;34m=\u001b[0m \u001b[0mwidgets\u001b[0m\u001b[0;34m.\u001b[0m\u001b[0mButton\u001b[0m\u001b[0;34m(\u001b[0m\u001b[0mdescription\u001b[0m \u001b[0;34m=\u001b[0m \u001b[0myesno\u001b[0m\u001b[0;34m[\u001b[0m\u001b[0;36m0\u001b[0m\u001b[0;34m]\u001b[0m\u001b[0;34m)\u001b[0m\u001b[0;34m\u001b[0m\u001b[0m\n\u001b[0m\u001b[1;32m      4\u001b[0m \u001b[0mbutton2\u001b[0m \u001b[0;34m=\u001b[0m \u001b[0mwidgets\u001b[0m\u001b[0;34m.\u001b[0m\u001b[0mButton\u001b[0m\u001b[0;34m(\u001b[0m\u001b[0mdescription\u001b[0m \u001b[0;34m=\u001b[0m \u001b[0myesno\u001b[0m\u001b[0;34m[\u001b[0m\u001b[0;36m1\u001b[0m\u001b[0;34m]\u001b[0m\u001b[0;34m)\u001b[0m\u001b[0;34m\u001b[0m\u001b[0m\n\u001b[1;32m      5\u001b[0m \u001b[0;31m#tts = gTTS(text=name+' Do you have a hearing disability? Click Yes or No', lang='en')\u001b[0m\u001b[0;34m\u001b[0m\u001b[0;34m\u001b[0m\u001b[0m\n",
      "\u001b[0;31mNameError\u001b[0m: name 'widgets' is not defined"
     ]
    }
   ],
   "source": [
    "print(\"Could you hear sound on both headphones?\")\n",
    "yesno=['Yes','No']\n",
    "button1 = widgets.Button(description = yesno[0])\n",
    "button2 = widgets.Button(description = yesno[1])\n",
    "#tts = gTTS(text=name+' Do you have a hearing disability? Click Yes or No', lang='en')\n",
    "#tts.save(\"answer.mp3\") \n",
    "#os.system(\"afplay answer.mp3\")\n",
    "container = widgets.HBox(children=[button1,button2])\n",
    "display(container)\n",
    "\n",
    "    \n",
    "def on_button1_clicked(b):\n",
    "    choice = b.description\n",
    "    b.color = 'white'\n",
    "    tts = gTTS(text='Great. Please use the scroll on the lower right corner to proceed on to the next section', lang='en')\n",
    "    tts.save(\"answer.mp3\") \n",
    "    #os.system(\"afplay answer.mp3\")\n",
    "    clear_output()\n",
    "    print(\"Please Proceed onto the next Section (Press Spacebar or Arrow at Bottom Right corner)\")\n",
    "        \n",
    "def on_button2_clicked(b):\n",
    "    # [insert code to record choice] \n",
    "    tts = gTTS(text='Please check your system sound settings and headphones & try again', lang='en')\n",
    "    tts.save(\"answer.mp3\") \n",
    "    #os.system(\"afplay answer.mp3\")\n",
    "    container.close()\n",
    "    clear_output()\n",
    "    print(\"Please check your system sound settings and headphones & start afresh\")\n",
    "\n",
    "button1.on_click(on_button1_clicked)\n",
    "button2.on_click(on_button2_clicked)"
   ]
  },
  {
   "cell_type": "markdown",
   "metadata": {
    "hideCode": false,
    "hidePrompt": false,
    "hide_input": true,
    "slideshow": {
     "slide_type": "slide"
    }
   },
   "source": [
    "# Hearing Test Training Module\n",
    "_You are about to embark on an adventure in listening_ \n",
    "It is important that you take the time to understanding your hearing. Everyone's hearing is slightly different. The first part of your path to listening for subtlties in spoken word, music and other sounds made from data is to self-evaluate your own hearing.\n",
    "We suggest that you grab your best headphones and that you take an online hearing test \n",
    "## Be sure and test both ears individually and print out the results of both those tests. \n",
    "__As you move forward in these sonification training modules these print outs will aid you in self-evaluating your understanding of sound in relationship to your own ears and the way YOU are hearing the world.__\n",
    "\n",
    "[ONLINE HEARING TEST link - click here](https://hearingtest.online) _REMEMBER: Print out the results for future reference_"
   ]
  },
  {
   "cell_type": "markdown",
   "metadata": {
    "slideshow": {
     "slide_type": "slide"
    }
   },
   "source": [
    "\n",
    "# Please ensure to Reset your System Volume to 50% again. Hit Space Bar  or Right arrow at the lower right to navigate to the next section."
   ]
  },
  {
   "cell_type": "code",
   "execution_count": 5,
   "metadata": {
    "hide_input": false,
    "slideshow": {
     "slide_type": "slide"
    }
   },
   "outputs": [
    {
     "ename": "TypeError",
     "evalue": "a bytes-like object is required, not 'str'",
     "output_type": "error",
     "traceback": [
      "\u001b[0;31m---------------------------------------------------------------------------\u001b[0m",
      "\u001b[0;31mTypeError\u001b[0m                                 Traceback (most recent call last)",
      "\u001b[0;32m~/anaconda3/envs/py36/lib/python3.6/site-packages/IPython/core/formatters.py\u001b[0m in \u001b[0;36m__call__\u001b[0;34m(self, obj, include, exclude)\u001b[0m\n\u001b[1;32m    968\u001b[0m \u001b[0;34m\u001b[0m\u001b[0m\n\u001b[1;32m    969\u001b[0m             \u001b[0;32mif\u001b[0m \u001b[0mmethod\u001b[0m \u001b[0;32mis\u001b[0m \u001b[0;32mnot\u001b[0m \u001b[0;32mNone\u001b[0m\u001b[0;34m:\u001b[0m\u001b[0;34m\u001b[0m\u001b[0m\n\u001b[0;32m--> 970\u001b[0;31m                 \u001b[0;32mreturn\u001b[0m \u001b[0mmethod\u001b[0m\u001b[0;34m(\u001b[0m\u001b[0minclude\u001b[0m\u001b[0;34m=\u001b[0m\u001b[0minclude\u001b[0m\u001b[0;34m,\u001b[0m \u001b[0mexclude\u001b[0m\u001b[0;34m=\u001b[0m\u001b[0mexclude\u001b[0m\u001b[0;34m)\u001b[0m\u001b[0;34m\u001b[0m\u001b[0m\n\u001b[0m\u001b[1;32m    971\u001b[0m             \u001b[0;32mreturn\u001b[0m \u001b[0;32mNone\u001b[0m\u001b[0;34m\u001b[0m\u001b[0m\n\u001b[1;32m    972\u001b[0m         \u001b[0;32melse\u001b[0m\u001b[0;34m:\u001b[0m\u001b[0;34m\u001b[0m\u001b[0m\n",
      "\u001b[0;32m~/anaconda3/envs/py36/lib/python3.6/site-packages/IPython/core/display.py\u001b[0m in \u001b[0;36m_repr_mimebundle_\u001b[0;34m(self, include, exclude)\u001b[0m\n\u001b[1;32m   1204\u001b[0m         \u001b[0;32mif\u001b[0m \u001b[0mself\u001b[0m\u001b[0;34m.\u001b[0m\u001b[0membed\u001b[0m\u001b[0;34m:\u001b[0m\u001b[0;34m\u001b[0m\u001b[0m\n\u001b[1;32m   1205\u001b[0m             \u001b[0mmimetype\u001b[0m \u001b[0;34m=\u001b[0m \u001b[0mself\u001b[0m\u001b[0;34m.\u001b[0m\u001b[0m_mimetype\u001b[0m\u001b[0;34m\u001b[0m\u001b[0m\n\u001b[0;32m-> 1206\u001b[0;31m             \u001b[0mdata\u001b[0m\u001b[0;34m,\u001b[0m \u001b[0mmetadata\u001b[0m \u001b[0;34m=\u001b[0m \u001b[0mself\u001b[0m\u001b[0;34m.\u001b[0m\u001b[0m_data_and_metadata\u001b[0m\u001b[0;34m(\u001b[0m\u001b[0malways_both\u001b[0m\u001b[0;34m=\u001b[0m\u001b[0;32mTrue\u001b[0m\u001b[0;34m)\u001b[0m\u001b[0;34m\u001b[0m\u001b[0m\n\u001b[0m\u001b[1;32m   1207\u001b[0m             \u001b[0;32mif\u001b[0m \u001b[0mmetadata\u001b[0m\u001b[0;34m:\u001b[0m\u001b[0;34m\u001b[0m\u001b[0m\n\u001b[1;32m   1208\u001b[0m                 \u001b[0mmetadata\u001b[0m \u001b[0;34m=\u001b[0m \u001b[0;34m{\u001b[0m\u001b[0mmimetype\u001b[0m\u001b[0;34m:\u001b[0m \u001b[0mmetadata\u001b[0m\u001b[0;34m}\u001b[0m\u001b[0;34m\u001b[0m\u001b[0m\n",
      "\u001b[0;32m~/anaconda3/envs/py36/lib/python3.6/site-packages/IPython/core/display.py\u001b[0m in \u001b[0;36m_data_and_metadata\u001b[0;34m(self, always_both)\u001b[0m\n\u001b[1;32m   1213\u001b[0m     \u001b[0;32mdef\u001b[0m \u001b[0m_data_and_metadata\u001b[0m\u001b[0;34m(\u001b[0m\u001b[0mself\u001b[0m\u001b[0;34m,\u001b[0m \u001b[0malways_both\u001b[0m\u001b[0;34m=\u001b[0m\u001b[0;32mFalse\u001b[0m\u001b[0;34m)\u001b[0m\u001b[0;34m:\u001b[0m\u001b[0;34m\u001b[0m\u001b[0m\n\u001b[1;32m   1214\u001b[0m         \u001b[0;34m\"\"\"shortcut for returning metadata with shape information, if defined\"\"\"\u001b[0m\u001b[0;34m\u001b[0m\u001b[0m\n\u001b[0;32m-> 1215\u001b[0;31m         \u001b[0mb64_data\u001b[0m \u001b[0;34m=\u001b[0m \u001b[0mb2a_base64\u001b[0m\u001b[0;34m(\u001b[0m\u001b[0mself\u001b[0m\u001b[0;34m.\u001b[0m\u001b[0mdata\u001b[0m\u001b[0;34m)\u001b[0m\u001b[0;34m.\u001b[0m\u001b[0mdecode\u001b[0m\u001b[0;34m(\u001b[0m\u001b[0;34m'ascii'\u001b[0m\u001b[0;34m)\u001b[0m\u001b[0;34m\u001b[0m\u001b[0m\n\u001b[0m\u001b[1;32m   1216\u001b[0m         \u001b[0mmd\u001b[0m \u001b[0;34m=\u001b[0m \u001b[0;34m{\u001b[0m\u001b[0;34m}\u001b[0m\u001b[0;34m\u001b[0m\u001b[0m\n\u001b[1;32m   1217\u001b[0m         \u001b[0;32mif\u001b[0m \u001b[0mself\u001b[0m\u001b[0;34m.\u001b[0m\u001b[0mmetadata\u001b[0m\u001b[0;34m:\u001b[0m\u001b[0;34m\u001b[0m\u001b[0m\n",
      "\u001b[0;31mTypeError\u001b[0m: a bytes-like object is required, not 'str'"
     ]
    },
    {
     "ename": "TypeError",
     "evalue": "a bytes-like object is required, not 'str'",
     "output_type": "error",
     "traceback": [
      "\u001b[0;31m---------------------------------------------------------------------------\u001b[0m",
      "\u001b[0;31mTypeError\u001b[0m                                 Traceback (most recent call last)",
      "\u001b[0;32m~/anaconda3/envs/py36/lib/python3.6/site-packages/IPython/core/formatters.py\u001b[0m in \u001b[0;36m__call__\u001b[0;34m(self, obj)\u001b[0m\n\u001b[1;32m    343\u001b[0m             \u001b[0mmethod\u001b[0m \u001b[0;34m=\u001b[0m \u001b[0mget_real_method\u001b[0m\u001b[0;34m(\u001b[0m\u001b[0mobj\u001b[0m\u001b[0;34m,\u001b[0m \u001b[0mself\u001b[0m\u001b[0;34m.\u001b[0m\u001b[0mprint_method\u001b[0m\u001b[0;34m)\u001b[0m\u001b[0;34m\u001b[0m\u001b[0m\n\u001b[1;32m    344\u001b[0m             \u001b[0;32mif\u001b[0m \u001b[0mmethod\u001b[0m \u001b[0;32mis\u001b[0m \u001b[0;32mnot\u001b[0m \u001b[0;32mNone\u001b[0m\u001b[0;34m:\u001b[0m\u001b[0;34m\u001b[0m\u001b[0m\n\u001b[0;32m--> 345\u001b[0;31m                 \u001b[0;32mreturn\u001b[0m \u001b[0mmethod\u001b[0m\u001b[0;34m(\u001b[0m\u001b[0;34m)\u001b[0m\u001b[0;34m\u001b[0m\u001b[0m\n\u001b[0m\u001b[1;32m    346\u001b[0m             \u001b[0;32mreturn\u001b[0m \u001b[0;32mNone\u001b[0m\u001b[0;34m\u001b[0m\u001b[0m\n\u001b[1;32m    347\u001b[0m         \u001b[0;32melse\u001b[0m\u001b[0;34m:\u001b[0m\u001b[0;34m\u001b[0m\u001b[0m\n",
      "\u001b[0;32m~/anaconda3/envs/py36/lib/python3.6/site-packages/IPython/core/display.py\u001b[0m in \u001b[0;36m_repr_png_\u001b[0;34m(self)\u001b[0m\n\u001b[1;32m   1230\u001b[0m     \u001b[0;32mdef\u001b[0m \u001b[0m_repr_png_\u001b[0m\u001b[0;34m(\u001b[0m\u001b[0mself\u001b[0m\u001b[0;34m)\u001b[0m\u001b[0;34m:\u001b[0m\u001b[0;34m\u001b[0m\u001b[0m\n\u001b[1;32m   1231\u001b[0m         \u001b[0;32mif\u001b[0m \u001b[0mself\u001b[0m\u001b[0;34m.\u001b[0m\u001b[0membed\u001b[0m \u001b[0;32mand\u001b[0m \u001b[0mself\u001b[0m\u001b[0;34m.\u001b[0m\u001b[0mformat\u001b[0m \u001b[0;34m==\u001b[0m \u001b[0mself\u001b[0m\u001b[0;34m.\u001b[0m\u001b[0m_FMT_PNG\u001b[0m\u001b[0;34m:\u001b[0m\u001b[0;34m\u001b[0m\u001b[0m\n\u001b[0;32m-> 1232\u001b[0;31m             \u001b[0;32mreturn\u001b[0m \u001b[0mself\u001b[0m\u001b[0;34m.\u001b[0m\u001b[0m_data_and_metadata\u001b[0m\u001b[0;34m(\u001b[0m\u001b[0;34m)\u001b[0m\u001b[0;34m\u001b[0m\u001b[0m\n\u001b[0m\u001b[1;32m   1233\u001b[0m \u001b[0;34m\u001b[0m\u001b[0m\n\u001b[1;32m   1234\u001b[0m     \u001b[0;32mdef\u001b[0m \u001b[0m_repr_jpeg_\u001b[0m\u001b[0;34m(\u001b[0m\u001b[0mself\u001b[0m\u001b[0;34m)\u001b[0m\u001b[0;34m:\u001b[0m\u001b[0;34m\u001b[0m\u001b[0m\n",
      "\u001b[0;32m~/anaconda3/envs/py36/lib/python3.6/site-packages/IPython/core/display.py\u001b[0m in \u001b[0;36m_data_and_metadata\u001b[0;34m(self, always_both)\u001b[0m\n\u001b[1;32m   1213\u001b[0m     \u001b[0;32mdef\u001b[0m \u001b[0m_data_and_metadata\u001b[0m\u001b[0;34m(\u001b[0m\u001b[0mself\u001b[0m\u001b[0;34m,\u001b[0m \u001b[0malways_both\u001b[0m\u001b[0;34m=\u001b[0m\u001b[0;32mFalse\u001b[0m\u001b[0;34m)\u001b[0m\u001b[0;34m:\u001b[0m\u001b[0;34m\u001b[0m\u001b[0m\n\u001b[1;32m   1214\u001b[0m         \u001b[0;34m\"\"\"shortcut for returning metadata with shape information, if defined\"\"\"\u001b[0m\u001b[0;34m\u001b[0m\u001b[0m\n\u001b[0;32m-> 1215\u001b[0;31m         \u001b[0mb64_data\u001b[0m \u001b[0;34m=\u001b[0m \u001b[0mb2a_base64\u001b[0m\u001b[0;34m(\u001b[0m\u001b[0mself\u001b[0m\u001b[0;34m.\u001b[0m\u001b[0mdata\u001b[0m\u001b[0;34m)\u001b[0m\u001b[0;34m.\u001b[0m\u001b[0mdecode\u001b[0m\u001b[0;34m(\u001b[0m\u001b[0;34m'ascii'\u001b[0m\u001b[0;34m)\u001b[0m\u001b[0;34m\u001b[0m\u001b[0m\n\u001b[0m\u001b[1;32m   1216\u001b[0m         \u001b[0mmd\u001b[0m \u001b[0;34m=\u001b[0m \u001b[0;34m{\u001b[0m\u001b[0;34m}\u001b[0m\u001b[0;34m\u001b[0m\u001b[0m\n\u001b[1;32m   1217\u001b[0m         \u001b[0;32mif\u001b[0m \u001b[0mself\u001b[0m\u001b[0;34m.\u001b[0m\u001b[0mmetadata\u001b[0m\u001b[0;34m:\u001b[0m\u001b[0;34m\u001b[0m\u001b[0m\n",
      "\u001b[0;31mTypeError\u001b[0m: a bytes-like object is required, not 'str'"
     ]
    },
    {
     "data": {
      "text/plain": [
       "<IPython.core.display.Image object>"
      ]
     },
     "metadata": {},
     "output_type": "display_data"
    }
   ],
   "source": [
    "import random\n",
    "from gtts import gTTS\n",
    "import time\n",
    "from IPython.display import Image, display, clear_output\n",
    "from ipywidgets import widgets\n",
    "import os\n",
    "import platform\n",
    "speechflag = 0\n",
    "if (platform.system()=='Windows'):\n",
    "    speechflag = 2\n",
    "if (platform.system()!='Windows'):\n",
    "    speechflag = 1\n",
    "\n",
    "\n",
    "display(Image('glasses.jpg'))\n",
    "tts = gTTS(text=('In this sonification,we try to represent the emptiness or fullness of something. For instance a drop of water falling into an empty glass sounds like'), lang='en')\n",
    "tts.save(\"num.mp3\")\n",
    "if (speechflag==1):\n",
    "                os.system(\"afplay num.mp3\")\n",
    "                os.system(\"afplay empty.mp3\")\n",
    "if (speechflag==2):\n",
    "                os.system(\"cmdmp3 num.mp3\")\n",
    "                os.system(\"cmdmp3 empty.mp3\")\n",
    "\n",
    "\n",
    "tts = gTTS(text=('Or the same drop of water falling into a full glass might sound like'), lang='en')\n",
    "tts.save(\"num.mp3\")\n",
    "if (speechflag==1):\n",
    "                os.system(\"afplay num.mp3\")\n",
    "                os.system(\"afplay full.mp3\")\n",
    "if (speechflag==2):\n",
    "                os.system(\"cmdmp3 num.mp3\")\n",
    "                os.system(\"cmdmp3 full.mp3\")\n",
    "\n",
    "tts = gTTS(text=('Notice, as how the saying goes, it is difficult to say if a glass is half empty '), lang='en')\n",
    "tts.save(\"num.mp3\")\n",
    "if (speechflag==1):\n",
    "                os.system(\"afplay num.mp3\")\n",
    "                os.system(\"afplay half_empty.mp3\")\n",
    "if (speechflag==2):\n",
    "                os.system(\"cmdmp3 num.mp3\")\n",
    "                os.system(\"cmdmp3 half_empty.mp3\")\n",
    "\n",
    "tts = gTTS(text=('or half full '), lang='en')\n",
    "tts.save(\"num.mp3\")\n",
    "if (speechflag==1):\n",
    "                os.system(\"afplay num.mp3\")\n",
    "                os.system(\"afplay half_full.mp3\")\n",
    "if (speechflag==2):\n",
    "                os.system(\"cmdmp3 num.mp3\")\n",
    "                os.system(\"cmdmp3 half_full.mp3\")\n",
    "\n",
    "tts = gTTS(text=('Ok. Hit space bar to go to the next section where you can explore this sonification (before taking the test)'), lang='en')\n",
    "tts.save(\"num.mp3\")\n",
    "if (speechflag==1):\n",
    "                os.system(\"afplay num.mp3\")\n",
    "if (speechflag==2):\n",
    "                os.system(\"cmdmp3 num.mp3\")\n",
    "                \n",
    "\n",
    "\n",
    "\n",
    "  \n"
   ]
  },
  {
   "cell_type": "code",
   "execution_count": 8,
   "metadata": {
    "hide_input": false,
    "slideshow": {
     "slide_type": "slide"
    }
   },
   "outputs": [
    {
     "name": "stdout",
     "output_type": "stream",
     "text": [
      "Use the Slider to set a Value and Click the Sonify Me Button to listen. Try to explore and listen to the variation of as many values in the range. Proceed to the next section when you think you are ready.\n"
     ]
    },
    {
     "data": {
      "application/vnd.jupyter.widget-view+json": {
       "model_id": "77575b7519274be5b46da01a8ed3e705",
       "version_major": 2,
       "version_minor": 0
      },
      "text/plain": [
       "interactive(children=(IntSlider(value=50, description='percentage'), Output()), _dom_classes=('widget-interact…"
      ]
     },
     "metadata": {},
     "output_type": "display_data"
    },
    {
     "data": {
      "application/vnd.jupyter.widget-view+json": {
       "model_id": "49a216d02bc946b48d2c23a282c73ccd",
       "version_major": 2,
       "version_minor": 0
      },
      "text/plain": [
       "Button(description='Sonify Me!', style=ButtonStyle())"
      ]
     },
     "metadata": {},
     "output_type": "display_data"
    }
   ],
   "source": [
    "%run ./dep/scripts/drops.py\n",
    "print(\"Use the Slider to set a Value and Click the Sonify Me Button to listen. Try to explore and listen to the variation of as many values in the range. Proceed to the next section when you think you are ready.\")\n",
    "interact (f, percentage=(0,100,1))\n",
    "\n",
    "button = widgets.Button(description=\"Sonify Me!\")\n",
    "display(button)\n",
    "button.on_click(on_button_clicked)\n",
    "\n",
    "\n"
   ]
  },
  {
   "cell_type": "code",
   "execution_count": 8,
   "metadata": {
    "hide_input": true,
    "slideshow": {
     "slide_type": "slide"
    }
   },
   "outputs": [
    {
     "data": {
      "application/vnd.jupyter.widget-view+json": {
       "model_id": "bb371b77f4e0432ea4b375fe0c5d5628",
       "version_major": 2,
       "version_minor": 0
      },
      "text/plain": [
       "Button(description='Thank you for finishing this module', layout=Layout(height='80px', width='50%'), style=But…"
      ]
     },
     "metadata": {},
     "output_type": "display_data"
    },
    {
     "name": "stdout",
     "output_type": "stream",
     "text": [
      "Your accuracy of response is 81.8%\n"
     ]
    }
   ],
   "source": [
    "import random\n",
    "import time\n",
    "from IPython.display import Image, display, clear_output\n",
    "from ipywidgets import Button, HBox, VBox,Layout\n",
    "from ipywidgets import widgets\n",
    "from ipywidgets import interact, interactive, fixed, interact_manual\n",
    "from gtts import gTTS\n",
    "import os\n",
    "import numpy\n",
    "import ctcsound\n",
    "import platform\n",
    "import os\n",
    "speechflag = 0\n",
    "if (platform.system()=='Windows'):\n",
    "    speechflag = 2\n",
    "if (platform.system()!='Windows'):\n",
    "    speechflag = 1\n",
    "\n",
    "print (\"Listen to the Sonification, Set the Slider to what Percentage you think it represents and Submit Response. You will undergo 5 trials\")\n",
    "count=0\n",
    "accuracy =0\n",
    "\n",
    "pan = 0\n",
    "user_input=0\n",
    "cs = ctcsound.Csound()\n",
    "index = 0\n",
    "\n",
    "csd = '''\n",
    "<CsoundSynthesizer>\n",
    "<CsOptions>\n",
    "-o dac\n",
    "</CsOptions>\n",
    "<CsInstruments>\n",
    ";\n",
    "sr = 44100\n",
    "ksmps = 32\n",
    "nchnls = 2\n",
    "0dbfs = 1\n",
    "\n",
    "giSine    ftgen     0, 0, 2^10, 10, 1\n",
    "\n",
    "instr 1 ;master instrument\n",
    "inumparts =         p4 ;number of partials\n",
    "ibasfreq  =         200 ;base frequency\n",
    "ipart     =         1 ;count variable for loop\n",
    ";loop for inumparts over the ipart variable\n",
    ";and trigger inumpartss instanes of the subinstrument\n",
    "loop:\n",
    "ifreq     =         ibasfreq * ipart\n",
    "iamp      =         1/ipart/inumparts\n",
    "          event_i   \"i\", 10, 0, p3, ifreq, iamp\n",
    "          loop_le   ipart, 1, inumparts, loop\n",
    "endin\n",
    "\n",
    "instr 10 ;subinstrument for playing one partial\n",
    "ifreq     =         p4 ;frequency of this partial\n",
    "iamp      =         p5 ;amplitude of this partial\n",
    "aenv      transeg   0, .01, 0, iamp, p3-0.1, -10, 0\n",
    "apart     poscil    aenv, ifreq, giSine\n",
    "          outs      apart, apart\n",
    "endin\n",
    "\n",
    "\n",
    "\n",
    "</CsInstruments>\n",
    "<CsScore>\n",
    "f 0 14400\n",
    "f 1 0 1024 10 1 \n",
    "\n",
    "</CsScore>\n",
    "\n",
    "</CsoundSynthesizer>\n",
    "'''\n",
    "\n",
    "cs.compileCsdText(csd)\n",
    "cs.start()\n",
    "pt = ctcsound.CsoundPerformanceThread(cs.csound())\n",
    "pt.play()\n",
    "\n",
    "\n",
    "\n",
    "def f(percentage):\n",
    "    global user_input\n",
    "    user_input = percentage\n",
    "\n",
    "\n",
    "\n",
    "def redraw(): \n",
    "    \n",
    "    global index\n",
    "    global accuracy\n",
    "    sonibutton = widgets.Button(description = 'Listen to Sonification')\n",
    "    answerbutton = widgets.Button(description='Submit Response')\n",
    "    choices = random.sample(range(100), 4)\n",
    "    choices = list(map(str, choices))\n",
    "    correct = random.choice(choices)\n",
    "    index = int(correct)\n",
    "\n",
    "    #display(Image(correct))\n",
    "    #display(correct)\n",
    "    time.sleep(0.5)\n",
    "    \n",
    "    \n",
    "    #display(button)\n",
    "    #button.on_click(on_button_clicked)\n",
    "    \n",
    "    #buttons = [widgets.Button(description = choice) for choice in choices]\n",
    "    #sonibutton = [widgets.Button(description = 'Listen to Sonification')]\n",
    "    interact (f, percentage=(0,100,1))\n",
    "    #answerbutton = [widgets.Button(description='Submit Input')]\n",
    "    \n",
    "    #container = widgets.HBox(children=buttons)\n",
    "\n",
    "    \n",
    "    left_box = VBox([(sonibutton)])\n",
    "    right_box = VBox([(answerbutton)])\n",
    "    #HBox([left_box, right_box])\n",
    "    container = widgets.HBox([left_box,right_box])\n",
    "    print(\"Trial \" + str(count+1))\n",
    "    display(container)\n",
    "    \n",
    "\n",
    "\n",
    "    def ans_button_clicked(b):\n",
    "            global count\n",
    "            global accuracy\n",
    "            count = count + 1\n",
    "            tts = gTTS(text='Input Submitted', lang='en')\n",
    "            tts.save(\"answer.mp3\") \n",
    "            \n",
    "            if (speechflag==1):\n",
    "                os.system(\"afplay answer.mp3\")\n",
    "            if (speechflag==2):\n",
    "                os.system(\"cmdmp3 answer.mp3\")\n",
    "            \n",
    "            text=list()\n",
    "            text.append(index)\n",
    "            text.append(user_input)\n",
    "            text.append(index-user_input)\n",
    "            accuracy = accuracy + abs(index -user_input)\n",
    "            with open('drop_responses.csv','a') as file:\n",
    "                file.write('\\n')\n",
    "                for line in text:\n",
    "                    file.write(str(line))\n",
    "                    file.write(',')\n",
    "            time.sleep(2)\n",
    "            container.close()\n",
    "            clear_output()\n",
    "            if count <5:\n",
    "                redraw()\n",
    "            if count == 5:\n",
    "                msg = widgets.Button(description = 'Thank you for finishing this module',layout=Layout(width='50%', height='80px'))\n",
    "                display(msg)\n",
    "                print(\"Your accuracy of response is \" + str(100-(accuracy/5)) + \"%\")\n",
    "                pt.stop()\n",
    "                pt.join()\n",
    "                file.close()\n",
    "            \n",
    "        \n",
    "    def son_button_clicked(b):\n",
    "            \n",
    "            #tts = gTTS(text='Playing Sonification', lang='en')\n",
    "            #tts.save(\"answer.mp3\") \n",
    "            #os.system(\"afplay answer.mp3\")\n",
    "            \n",
    "            in_min  = 0\n",
    "            in_max = 100\n",
    "            out_min=0\n",
    "            out_max = 20\n",
    "        \n",
    "            global index\n",
    "    \n",
    "            freq = (index - in_min) * (out_max - out_min) / (in_max - in_min) + out_min  \n",
    "            #print(freq)  \n",
    "    \n",
    "            pt.scoreEvent(False, 'i', (1, 0, 3,freq))\n",
    "            time.sleep(4.5)\n",
    "             \n",
    "            \n",
    "        \n",
    "        \n",
    "    answerbutton.on_click(ans_button_clicked)\n",
    "    sonibutton.on_click(son_button_clicked)\n",
    "\n",
    "\n",
    " \n",
    "   \n",
    "    \n",
    "\n",
    "redraw()\n",
    "\n",
    "\n"
   ]
  },
  {
   "cell_type": "code",
   "execution_count": 9,
   "metadata": {
    "hideCode": false,
    "hidePrompt": false,
    "hide_input": false,
    "scrolled": false,
    "slideshow": {
     "slide_type": "slide"
    }
   },
   "outputs": [
    {
     "data": {
      "text/html": [
       "<video width=\"640\" height=\"480\" controls>\n",
       "  <source src=\"percentages.mp4\" type=\"video/mp4\">\n",
       "</video>"
      ],
      "text/plain": [
       "<IPython.core.display.HTML object>"
      ]
     },
     "metadata": {},
     "output_type": "display_data"
    }
   ],
   "source": [
    "%%HTML\n",
    "<video width=\"640\" height=\"480\" controls>\n",
    "  <source src=\"percentages.mp4\" type=\"video/mp4\">\n",
    "</video>"
   ]
  },
  {
   "cell_type": "code",
   "execution_count": 10,
   "metadata": {
    "hide_input": false,
    "slideshow": {
     "slide_type": "slide"
    }
   },
   "outputs": [
    {
     "name": "stdout",
     "output_type": "stream",
     "text": [
      "Use the Slider to set a Value and Click the Sonify Me Button to listen. Try to explore and listen to the variation of as many values in the range\n",
      "\n",
      "\n",
      "Once you think you are ready proceed onto the next section by hitting Space Bar\n"
     ]
    },
    {
     "data": {
      "application/vnd.jupyter.widget-view+json": {
       "model_id": "86832f6130b4436588983476b6ddc576",
       "version_major": 2,
       "version_minor": 0
      },
      "text/plain": [
       "interactive(children=(IntSlider(value=50, description='percentage', step=5), Output()), _dom_classes=('widget-…"
      ]
     },
     "metadata": {},
     "output_type": "display_data"
    },
    {
     "data": {
      "application/vnd.jupyter.widget-view+json": {
       "model_id": "25fdd9640d4d4c23874d6c1c8610f37c",
       "version_major": 2,
       "version_minor": 0
      },
      "text/plain": [
       "Button(description='Sonify Me!', style=ButtonStyle())"
      ]
     },
     "metadata": {},
     "output_type": "display_data"
    }
   ],
   "source": [
    "%run ./pan.py\n",
    "\n",
    "print(\"Use the Slider to set a Value and Click the Sonify Me Button to listen. Try to explore and listen to the variation of as many values in the range\")\n",
    "print(\"\\n\")\n",
    "print(\"Once you think you are ready proceed onto the next section by hitting Space Bar\")\n",
    "interact (f, percentage=(0,100,5))\n",
    "\n",
    "button = widgets.Button(description=\"Sonify Me!\")\n",
    "display(button)\n",
    "button.on_click(on_button_clicked)\n",
    "\n"
   ]
  },
  {
   "cell_type": "code",
   "execution_count": 11,
   "metadata": {
    "hide_input": false,
    "scrolled": true,
    "slideshow": {
     "slide_type": "slide"
    }
   },
   "outputs": [
    {
     "data": {
      "application/vnd.jupyter.widget-view+json": {
       "model_id": "708483e9984841f6a76fe0f9c235d757",
       "version_major": 2,
       "version_minor": 0
      },
      "text/plain": [
       "Button(description='Use the Space Bar or Right Arrow to go to the next section', layout=Layout(height='50px', …"
      ]
     },
     "metadata": {},
     "output_type": "display_data"
    }
   ],
   "source": [
    "from IPython.display import Image, display, clear_output\n",
    "from ipywidgets import Button, HBox, VBox,Layout,widgets\n",
    "\n",
    "button = widgets.Button(description=\"Click here to Reset Sound Engine. Then Use the Right Arrow to go to the next Section\", layout=Layout(width='80%', height='50px'))\n",
    "\n",
    "display(button)\n",
    "\n",
    "def next_button_clicked(b):\n",
    "    pt.stop()\n",
    "    pt.join()\n",
    "    button = widgets.Button(description=\"Use the Space Bar or Right Arrow to go to the next section\", layout=Layout(width='40%', height='50px'))\n",
    "    clear_output()\n",
    "    display(button)\n",
    "\n",
    "button.on_click(next_button_clicked)\n",
    "\n",
    "\n",
    "    \n",
    "\n",
    "\n"
   ]
  },
  {
   "cell_type": "code",
   "execution_count": 12,
   "metadata": {
    "hide_input": false,
    "slideshow": {
     "slide_type": "slide"
    }
   },
   "outputs": [
    {
     "data": {
      "application/vnd.jupyter.widget-view+json": {
       "model_id": "14fb16a225ea4703b9ff911cf4fd86e6",
       "version_major": 2,
       "version_minor": 0
      },
      "text/plain": [
       "Button(description='Thank you for finishing this module', layout=Layout(height='80px', width='50%'), style=But…"
      ]
     },
     "metadata": {},
     "output_type": "display_data"
    },
    {
     "name": "stdout",
     "output_type": "stream",
     "text": [
      "Your accuracy of response is 75.0%\n"
     ]
    }
   ],
   "source": [
    "import random\n",
    "import time\n",
    "from IPython.display import Image, display, clear_output\n",
    "from ipywidgets import Button, HBox, VBox,Layout\n",
    "from ipywidgets import widgets\n",
    "from ipywidgets import interact, interactive, fixed, interact_manual\n",
    "from gtts import gTTS\n",
    "import os\n",
    "import numpy\n",
    "import ctcsound\n",
    "import platform\n",
    "import os\n",
    "speechflag = 0\n",
    "if (platform.system()=='Windows'):\n",
    "    speechflag = 2\n",
    "if (platform.system()!='Windows'):\n",
    "    speechflag = 1\n",
    "\n",
    "print (\"Listen to the Sonification, Set the Slider to what Percentage you think it represents and Submit Response. You will undergo 5 trials\")\n",
    "count=0\n",
    "accuracy =0\n",
    "\n",
    "pan = 0\n",
    "user_input=0\n",
    "cs = ctcsound.Csound()\n",
    "index = 0\n",
    "csd = '''\n",
    "<CsoundSynthesizer>\n",
    "<CsOptions>\n",
    "-odac -d\n",
    "\n",
    "</CsOptions>\n",
    "<CsInstruments>\n",
    "\n",
    "sr = 44100\n",
    "ksmps = 32\n",
    "nchnls = 2\n",
    "0dbfs = 1\n",
    "\n",
    "instr 1\n",
    "\n",
    ";aMod1 poscil 200, 700, 1\n",
    "aMod1 poscil p4, p5, 1   ; p4 = amp1, p5 = f1, p6 = amp2, p7 = f2 \n",
    ";aMod2 poscil 1800, 290, 1\n",
    "aMod2 poscil p6, p7, 1\n",
    "kenv linen p9 , 0.3 , p3, p9\n",
    "aSig poscil kenv, 440+aMod1+aMod2, 1\n",
    "outs aSig*(1-p8), aSig*p8\n",
    "endin\n",
    "\n",
    "\n",
    "\n",
    "</CsInstruments>\n",
    "<CsScore>\n",
    "f 0 14400\n",
    "f 1 0 1024 10 1 \n",
    "\n",
    "</CsScore>\n",
    "\n",
    "</CsoundSynthesizer>\n",
    "'''\n",
    "\n",
    "cs.compileCsdText(csd)\n",
    "cs.start()\n",
    "pt = ctcsound.CsoundPerformanceThread(cs.csound())\n",
    "pt.play()\n",
    "\n",
    "\n",
    "\n",
    "def f(percentage):\n",
    "    global user_input\n",
    "    user_input = percentage\n",
    "\n",
    "\n",
    "\n",
    "def redraw(): \n",
    "    \n",
    "    global index\n",
    "    global accuracy\n",
    "    sonibutton = widgets.Button(description = 'Listen to Sonification')\n",
    "    answerbutton = widgets.Button(description='Submit Response')\n",
    "    choices = random.sample(range(100), 4)\n",
    "    choices = list(map(str, choices))\n",
    "    correct = random.choice(choices)\n",
    "    index = int(correct)\n",
    "\n",
    "    #display(Image(correct))\n",
    "    #display(correct)\n",
    "    time.sleep(0.5)\n",
    "    \n",
    "    \n",
    "    #display(button)\n",
    "    #button.on_click(on_button_clicked)\n",
    "    \n",
    "    #buttons = [widgets.Button(description = choice) for choice in choices]\n",
    "    #sonibutton = [widgets.Button(description = 'Listen to Sonification')]\n",
    "    interact (f, percentage=(0,100,1))\n",
    "    #answerbutton = [widgets.Button(description='Submit Input')]\n",
    "    \n",
    "    #container = widgets.HBox(children=buttons)\n",
    "\n",
    "    \n",
    "    left_box = VBox([(sonibutton)])\n",
    "    right_box = VBox([(answerbutton)])\n",
    "    #HBox([left_box, right_box])\n",
    "    container = widgets.HBox([left_box,right_box])\n",
    "    print(\"Trial \" + str(count+1))\n",
    "    display(container)\n",
    "    \n",
    "\n",
    "\n",
    "    def ans_button_clicked(b):\n",
    "            global count\n",
    "            global accuracy\n",
    "            count = count + 1\n",
    "            \n",
    "            \n",
    "  \n",
    "\n",
    "  \n",
    "            tts = gTTS(text='Input Submitted', lang='en')\n",
    "            tts.save(\"answer.mp3\") \n",
    "            if (speechflag==1):\n",
    "                os.system(\"afplay answer.mp3\")\n",
    "            if (speechflag==2):\n",
    "                os.system(\"cmdmp3 answer.mp3\")\n",
    "            #print(user_input)\n",
    "            text=list()\n",
    "            text.append(index)\n",
    "            text.append(user_input)\n",
    "            text.append(index-user_input)\n",
    "            accuracy = accuracy + abs(index -user_input)\n",
    "            with open('responses.csv','a') as file:\n",
    "                file.write('\\n')\n",
    "                for line in text:\n",
    "                    file.write(str(line))\n",
    "                    file.write(',')\n",
    "            time.sleep(2)\n",
    "            container.close()\n",
    "            clear_output()\n",
    "            if count <5:\n",
    "                redraw()\n",
    "            if count == 5:\n",
    "                msg = widgets.Button(description = 'Thank you for finishing this module',layout=Layout(width='50%', height='80px'))\n",
    "                display(msg)\n",
    "                print(\"Your accuracy of response is \" + str(100-(accuracy/5)) + \"%\")\n",
    "                pt.stop()\n",
    "                pt.join()\n",
    "                file.close()\n",
    "            \n",
    "        \n",
    "    def son_button_clicked(b):\n",
    "            \n",
    "            #tts = gTTS(text='Playing Sonification', lang='en')\n",
    "            #tts.save(\"answer.mp3\") \n",
    "            #os.system(\"afplay answer.mp3\")\n",
    "            \n",
    "            in_min  = 0\n",
    "            in_max = 100\n",
    "            out_min=690\n",
    "            out_max = 710\n",
    "        \n",
    "            global index\n",
    "    \n",
    "            if (index>50):\n",
    "                pan = 1\n",
    "            if (index<50):\n",
    "                pan = 0\n",
    "            if (index==50):\n",
    "                pan = 0.5\n",
    "            freq = (index - in_min) * (out_max - out_min) / (in_max - in_min) + out_min  \n",
    "            #print(freq)  \n",
    "    \n",
    "            pt.scoreEvent(False, 'i', (1, 0, 4, 200, 700, 200, freq, pan, 0.5))\n",
    "            time.sleep(4.5)\n",
    "             \n",
    "            \n",
    "        \n",
    "        \n",
    "    answerbutton.on_click(ans_button_clicked)\n",
    "    sonibutton.on_click(son_button_clicked)\n",
    "\n",
    "\n",
    " \n",
    "   \n",
    "    \n",
    "\n",
    "redraw()"
   ]
  }
 ],
 "metadata": {
  "celltoolbar": "Slideshow",
  "hide_code_all_hidden": false,
  "hide_input": true,
  "kernelspec": {
   "display_name": "Python 3",
   "language": "python",
   "name": "python3"
  },
  "language_info": {
   "codemirror_mode": {
    "name": "ipython",
    "version": 3
   },
   "file_extension": ".py",
   "mimetype": "text/x-python",
   "name": "python",
   "nbconvert_exporter": "python",
   "pygments_lexer": "ipython3",
   "version": "3.6.5"
  }
 },
 "nbformat": 4,
 "nbformat_minor": 2
}
